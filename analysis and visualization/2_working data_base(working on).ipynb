{
 "cells": [
  {
   "cell_type": "markdown",
   "metadata": {},
   "source": [
    "<span style=\"font-size: 30px;\">\n",
    "\n",
    "**Metadata**\n",
    "\n",
    "\n",
    "</span>\n",
    "\n"
   ]
  },
  {
   "cell_type": "code",
   "execution_count": 1,
   "metadata": {},
   "outputs": [
    {
     "data": {
      "text/plain": [
       "\"\\nclient_id:       Every client's unique ID.\\nvariation:       Indicates if a client was part of the experiment.\\nvisitor_id:      A unique ID for each client-device combination.\\nvisit_id:        A unique ID for each web visit/session.\\nprocess_step:    Marks each step in the digital process.\\ndate_time:       Timestamp of each web activity.\\nclnt_tenure_yr:  Represents how long the client has been with Vanguard, measured in years.\\nclnt_tenure_mnth: Further breaks down the client's tenure with Vanguard in months.\\nclnt_age:        Indicates the age of the client.\\ngendr:           Specifies the client's gender.\\nnum_accts:       Denotes the number of accounts the client holds with Vanguard.\\nbal:             Gives the total balance spread across all accounts for a particular client.\\ncalls_6_mnth:    Records the number of times the client reached out over a call in the past six months.\\nlogons_6_mnth:   Reflects the frequency with which the client logged onto Vanguard's platform over the last six months\\n\""
      ]
     },
     "execution_count": 1,
     "metadata": {},
     "output_type": "execute_result"
    }
   ],
   "source": [
    "\"\"\"\n",
    "client_id:       Every client's unique ID.\n",
    "variation:       Indicates if a client was part of the experiment.\n",
    "visitor_id:      A unique ID for each client-device combination.\n",
    "visit_id:        A unique ID for each web visit/session.\n",
    "process_step:    Marks each step in the digital process.\n",
    "date_time:       Timestamp of each web activity.\n",
    "clnt_tenure_yr:  Represents how long the client has been with Vanguard, measured in years.\n",
    "clnt_tenure_mnth: Further breaks down the client's tenure with Vanguard in months.\n",
    "clnt_age:        Indicates the age of the client.\n",
    "gendr:           Specifies the client's gender.\n",
    "num_accts:       Denotes the number of accounts the client holds with Vanguard.\n",
    "bal:             Gives the total balance spread across all accounts for a particular client.\n",
    "calls_6_mnth:    Records the number of times the client reached out over a call in the past six months.\n",
    "logons_6_mnth:   Reflects the frequency with which the client logged onto Vanguard's platform over the last six months\n",
    "\"\"\""
   ]
  },
  {
   "cell_type": "markdown",
   "metadata": {},
   "source": [
    "<span style=\"font-size: 30px;\">\n",
    "\n",
    "**Data**\n",
    "\n",
    "\n",
    "</span>"
   ]
  },
  {
   "cell_type": "code",
   "execution_count": 2,
   "metadata": {},
   "outputs": [
    {
     "name": "stderr",
     "output_type": "stream",
     "text": [
      "C:\\Users\\pmarques\\AppData\\Local\\Temp\\ipykernel_21320\\3845482644.py:4: DtypeWarning: Columns (1) have mixed types. Specify dtype option on import or set low_memory=False.\n",
      "  df = pd.read_csv('All_data.csv')\n"
     ]
    },
    {
     "data": {
      "text/html": [
       "<div>\n",
       "<style scoped>\n",
       "    .dataframe tbody tr th:only-of-type {\n",
       "        vertical-align: middle;\n",
       "    }\n",
       "\n",
       "    .dataframe tbody tr th {\n",
       "        vertical-align: top;\n",
       "    }\n",
       "\n",
       "    .dataframe thead th {\n",
       "        text-align: right;\n",
       "    }\n",
       "</style>\n",
       "<table border=\"1\" class=\"dataframe\">\n",
       "  <thead>\n",
       "    <tr style=\"text-align: right;\">\n",
       "      <th></th>\n",
       "      <th>client_id</th>\n",
       "      <th>Variation</th>\n",
       "      <th>clnt_tenure_yr</th>\n",
       "      <th>clnt_tenure_mnth</th>\n",
       "      <th>clnt_age</th>\n",
       "      <th>gendr</th>\n",
       "      <th>num_accts</th>\n",
       "      <th>bal</th>\n",
       "      <th>calls_6_mnth</th>\n",
       "      <th>logons_6_mnth</th>\n",
       "      <th>visitor_id</th>\n",
       "      <th>visit_id</th>\n",
       "      <th>process_step</th>\n",
       "      <th>date_time</th>\n",
       "    </tr>\n",
       "  </thead>\n",
       "  <tbody>\n",
       "    <tr>\n",
       "      <th>0</th>\n",
       "      <td>9988021</td>\n",
       "      <td>Test</td>\n",
       "      <td>5.0</td>\n",
       "      <td>64.0</td>\n",
       "      <td>79.0</td>\n",
       "      <td>U</td>\n",
       "      <td>2.0</td>\n",
       "      <td>189023.86</td>\n",
       "      <td>1.0</td>\n",
       "      <td>4.0</td>\n",
       "      <td>580560515_7732621733</td>\n",
       "      <td>781255054_21935453173_531117</td>\n",
       "      <td>step_3</td>\n",
       "      <td>2017-04-17 15:27:07</td>\n",
       "    </tr>\n",
       "    <tr>\n",
       "      <th>1</th>\n",
       "      <td>9988021</td>\n",
       "      <td>Test</td>\n",
       "      <td>5.0</td>\n",
       "      <td>64.0</td>\n",
       "      <td>79.0</td>\n",
       "      <td>U</td>\n",
       "      <td>2.0</td>\n",
       "      <td>189023.86</td>\n",
       "      <td>1.0</td>\n",
       "      <td>4.0</td>\n",
       "      <td>580560515_7732621733</td>\n",
       "      <td>781255054_21935453173_531117</td>\n",
       "      <td>step_2</td>\n",
       "      <td>2017-04-17 15:26:51</td>\n",
       "    </tr>\n",
       "    <tr>\n",
       "      <th>2</th>\n",
       "      <td>9988021</td>\n",
       "      <td>Test</td>\n",
       "      <td>5.0</td>\n",
       "      <td>64.0</td>\n",
       "      <td>79.0</td>\n",
       "      <td>U</td>\n",
       "      <td>2.0</td>\n",
       "      <td>189023.86</td>\n",
       "      <td>1.0</td>\n",
       "      <td>4.0</td>\n",
       "      <td>580560515_7732621733</td>\n",
       "      <td>781255054_21935453173_531117</td>\n",
       "      <td>step_3</td>\n",
       "      <td>2017-04-17 15:19:22</td>\n",
       "    </tr>\n",
       "    <tr>\n",
       "      <th>3</th>\n",
       "      <td>9988021</td>\n",
       "      <td>Test</td>\n",
       "      <td>5.0</td>\n",
       "      <td>64.0</td>\n",
       "      <td>79.0</td>\n",
       "      <td>U</td>\n",
       "      <td>2.0</td>\n",
       "      <td>189023.86</td>\n",
       "      <td>1.0</td>\n",
       "      <td>4.0</td>\n",
       "      <td>580560515_7732621733</td>\n",
       "      <td>781255054_21935453173_531117</td>\n",
       "      <td>step_2</td>\n",
       "      <td>2017-04-17 15:19:13</td>\n",
       "    </tr>\n",
       "    <tr>\n",
       "      <th>4</th>\n",
       "      <td>9988021</td>\n",
       "      <td>Test</td>\n",
       "      <td>5.0</td>\n",
       "      <td>64.0</td>\n",
       "      <td>79.0</td>\n",
       "      <td>U</td>\n",
       "      <td>2.0</td>\n",
       "      <td>189023.86</td>\n",
       "      <td>1.0</td>\n",
       "      <td>4.0</td>\n",
       "      <td>580560515_7732621733</td>\n",
       "      <td>781255054_21935453173_531117</td>\n",
       "      <td>step_3</td>\n",
       "      <td>2017-04-17 15:18:04</td>\n",
       "    </tr>\n",
       "    <tr>\n",
       "      <th>...</th>\n",
       "      <td>...</td>\n",
       "      <td>...</td>\n",
       "      <td>...</td>\n",
       "      <td>...</td>\n",
       "      <td>...</td>\n",
       "      <td>...</td>\n",
       "      <td>...</td>\n",
       "      <td>...</td>\n",
       "      <td>...</td>\n",
       "      <td>...</td>\n",
       "      <td>...</td>\n",
       "      <td>...</td>\n",
       "      <td>...</td>\n",
       "      <td>...</td>\n",
       "    </tr>\n",
       "    <tr>\n",
       "      <th>449685</th>\n",
       "      <td>9895983</td>\n",
       "      <td>NaN</td>\n",
       "      <td>10.0</td>\n",
       "      <td>121.0</td>\n",
       "      <td>49.0</td>\n",
       "      <td>M</td>\n",
       "      <td>2.0</td>\n",
       "      <td>97748.22</td>\n",
       "      <td>2.0</td>\n",
       "      <td>2.0</td>\n",
       "      <td>473024645_56027518531</td>\n",
       "      <td>498981662_93503779869_272484</td>\n",
       "      <td>step_3</td>\n",
       "      <td>2017-06-15 19:52:09</td>\n",
       "    </tr>\n",
       "    <tr>\n",
       "      <th>449686</th>\n",
       "      <td>9895983</td>\n",
       "      <td>NaN</td>\n",
       "      <td>10.0</td>\n",
       "      <td>121.0</td>\n",
       "      <td>49.0</td>\n",
       "      <td>M</td>\n",
       "      <td>2.0</td>\n",
       "      <td>97748.22</td>\n",
       "      <td>2.0</td>\n",
       "      <td>2.0</td>\n",
       "      <td>473024645_56027518531</td>\n",
       "      <td>498981662_93503779869_272484</td>\n",
       "      <td>step_2</td>\n",
       "      <td>2017-06-15 19:50:37</td>\n",
       "    </tr>\n",
       "    <tr>\n",
       "      <th>449687</th>\n",
       "      <td>9895983</td>\n",
       "      <td>NaN</td>\n",
       "      <td>10.0</td>\n",
       "      <td>121.0</td>\n",
       "      <td>49.0</td>\n",
       "      <td>M</td>\n",
       "      <td>2.0</td>\n",
       "      <td>97748.22</td>\n",
       "      <td>2.0</td>\n",
       "      <td>2.0</td>\n",
       "      <td>473024645_56027518531</td>\n",
       "      <td>498981662_93503779869_272484</td>\n",
       "      <td>step_1</td>\n",
       "      <td>2017-06-15 19:50:05</td>\n",
       "    </tr>\n",
       "    <tr>\n",
       "      <th>449688</th>\n",
       "      <td>9895983</td>\n",
       "      <td>NaN</td>\n",
       "      <td>10.0</td>\n",
       "      <td>121.0</td>\n",
       "      <td>49.0</td>\n",
       "      <td>M</td>\n",
       "      <td>2.0</td>\n",
       "      <td>97748.22</td>\n",
       "      <td>2.0</td>\n",
       "      <td>2.0</td>\n",
       "      <td>473024645_56027518531</td>\n",
       "      <td>498981662_93503779869_272484</td>\n",
       "      <td>start</td>\n",
       "      <td>2017-06-15 19:50:00</td>\n",
       "    </tr>\n",
       "    <tr>\n",
       "      <th>449689</th>\n",
       "      <td>9895983</td>\n",
       "      <td>NaN</td>\n",
       "      <td>10.0</td>\n",
       "      <td>121.0</td>\n",
       "      <td>49.0</td>\n",
       "      <td>M</td>\n",
       "      <td>2.0</td>\n",
       "      <td>97748.22</td>\n",
       "      <td>2.0</td>\n",
       "      <td>2.0</td>\n",
       "      <td>473024645_56027518531</td>\n",
       "      <td>498981662_93503779869_272484</td>\n",
       "      <td>start</td>\n",
       "      <td>2017-06-15 19:44:05</td>\n",
       "    </tr>\n",
       "  </tbody>\n",
       "</table>\n",
       "<p>449690 rows × 14 columns</p>\n",
       "</div>"
      ],
      "text/plain": [
       "        client_id Variation  clnt_tenure_yr  clnt_tenure_mnth  clnt_age gendr  \\\n",
       "0         9988021      Test             5.0              64.0      79.0     U   \n",
       "1         9988021      Test             5.0              64.0      79.0     U   \n",
       "2         9988021      Test             5.0              64.0      79.0     U   \n",
       "3         9988021      Test             5.0              64.0      79.0     U   \n",
       "4         9988021      Test             5.0              64.0      79.0     U   \n",
       "...           ...       ...             ...               ...       ...   ...   \n",
       "449685    9895983       NaN            10.0             121.0      49.0     M   \n",
       "449686    9895983       NaN            10.0             121.0      49.0     M   \n",
       "449687    9895983       NaN            10.0             121.0      49.0     M   \n",
       "449688    9895983       NaN            10.0             121.0      49.0     M   \n",
       "449689    9895983       NaN            10.0             121.0      49.0     M   \n",
       "\n",
       "        num_accts        bal  calls_6_mnth  logons_6_mnth  \\\n",
       "0             2.0  189023.86           1.0            4.0   \n",
       "1             2.0  189023.86           1.0            4.0   \n",
       "2             2.0  189023.86           1.0            4.0   \n",
       "3             2.0  189023.86           1.0            4.0   \n",
       "4             2.0  189023.86           1.0            4.0   \n",
       "...           ...        ...           ...            ...   \n",
       "449685        2.0   97748.22           2.0            2.0   \n",
       "449686        2.0   97748.22           2.0            2.0   \n",
       "449687        2.0   97748.22           2.0            2.0   \n",
       "449688        2.0   97748.22           2.0            2.0   \n",
       "449689        2.0   97748.22           2.0            2.0   \n",
       "\n",
       "                   visitor_id                      visit_id process_step  \\\n",
       "0        580560515_7732621733  781255054_21935453173_531117       step_3   \n",
       "1        580560515_7732621733  781255054_21935453173_531117       step_2   \n",
       "2        580560515_7732621733  781255054_21935453173_531117       step_3   \n",
       "3        580560515_7732621733  781255054_21935453173_531117       step_2   \n",
       "4        580560515_7732621733  781255054_21935453173_531117       step_3   \n",
       "...                       ...                           ...          ...   \n",
       "449685  473024645_56027518531  498981662_93503779869_272484       step_3   \n",
       "449686  473024645_56027518531  498981662_93503779869_272484       step_2   \n",
       "449687  473024645_56027518531  498981662_93503779869_272484       step_1   \n",
       "449688  473024645_56027518531  498981662_93503779869_272484        start   \n",
       "449689  473024645_56027518531  498981662_93503779869_272484        start   \n",
       "\n",
       "                  date_time  \n",
       "0       2017-04-17 15:27:07  \n",
       "1       2017-04-17 15:26:51  \n",
       "2       2017-04-17 15:19:22  \n",
       "3       2017-04-17 15:19:13  \n",
       "4       2017-04-17 15:18:04  \n",
       "...                     ...  \n",
       "449685  2017-06-15 19:52:09  \n",
       "449686  2017-06-15 19:50:37  \n",
       "449687  2017-06-15 19:50:05  \n",
       "449688  2017-06-15 19:50:00  \n",
       "449689  2017-06-15 19:44:05  \n",
       "\n",
       "[449690 rows x 14 columns]"
      ]
     },
     "execution_count": 2,
     "metadata": {},
     "output_type": "execute_result"
    }
   ],
   "source": [
    "import pandas as pd\n",
    "\n",
    "\n",
    "df = pd.read_csv('All_data.csv')\n",
    "df"
   ]
  },
  {
   "cell_type": "code",
   "execution_count": null,
   "metadata": {},
   "outputs": [],
   "source": []
  },
  {
   "cell_type": "markdown",
   "metadata": {},
   "source": [
    "<span style=\"font-size: 30px;\">\n",
    "\n",
    "**Client behavior analysis**\n",
    "\n",
    "</span>\n",
    "\n",
    "\n",
    "\n",
    "\n",
    "\n",
    "<span style=\"font-size: 20px;\">\n",
    "\n",
    "- Who are the primary clients using this online process?\n",
    "\n",
    "- Are the primary clients younger or older, new or long-standing?\n",
    "\n",
    "</span>\n"
   ]
  },
  {
   "cell_type": "code",
   "execution_count": 3,
   "metadata": {},
   "outputs": [
    {
     "data": {
      "text/html": [
       "<div>\n",
       "<style scoped>\n",
       "    .dataframe tbody tr th:only-of-type {\n",
       "        vertical-align: middle;\n",
       "    }\n",
       "\n",
       "    .dataframe tbody tr th {\n",
       "        vertical-align: top;\n",
       "    }\n",
       "\n",
       "    .dataframe thead th {\n",
       "        text-align: right;\n",
       "    }\n",
       "</style>\n",
       "<table border=\"1\" class=\"dataframe\">\n",
       "  <thead>\n",
       "    <tr style=\"text-align: right;\">\n",
       "      <th></th>\n",
       "      <th>client_id</th>\n",
       "      <th>bal</th>\n",
       "    </tr>\n",
       "  </thead>\n",
       "  <tbody>\n",
       "    <tr>\n",
       "      <th>0</th>\n",
       "      <td>9988021</td>\n",
       "      <td>189023.86</td>\n",
       "    </tr>\n",
       "    <tr>\n",
       "      <th>1</th>\n",
       "      <td>9988021</td>\n",
       "      <td>189023.86</td>\n",
       "    </tr>\n",
       "    <tr>\n",
       "      <th>2</th>\n",
       "      <td>9988021</td>\n",
       "      <td>189023.86</td>\n",
       "    </tr>\n",
       "    <tr>\n",
       "      <th>3</th>\n",
       "      <td>9988021</td>\n",
       "      <td>189023.86</td>\n",
       "    </tr>\n",
       "    <tr>\n",
       "      <th>4</th>\n",
       "      <td>9988021</td>\n",
       "      <td>189023.86</td>\n",
       "    </tr>\n",
       "  </tbody>\n",
       "</table>\n",
       "</div>"
      ],
      "text/plain": [
       "   client_id        bal\n",
       "0    9988021  189023.86\n",
       "1    9988021  189023.86\n",
       "2    9988021  189023.86\n",
       "3    9988021  189023.86\n",
       "4    9988021  189023.86"
      ]
     },
     "execution_count": 3,
     "metadata": {},
     "output_type": "execute_result"
    }
   ],
   "source": [
    "bal = df[[\"client_id\", \"bal\"]]\n",
    "bal.head()"
   ]
  },
  {
   "cell_type": "code",
   "execution_count": 4,
   "metadata": {},
   "outputs": [
    {
     "data": {
      "text/html": [
       "<div>\n",
       "<style scoped>\n",
       "    .dataframe tbody tr th:only-of-type {\n",
       "        vertical-align: middle;\n",
       "    }\n",
       "\n",
       "    .dataframe tbody tr th {\n",
       "        vertical-align: top;\n",
       "    }\n",
       "\n",
       "    .dataframe thead th {\n",
       "        text-align: right;\n",
       "    }\n",
       "</style>\n",
       "<table border=\"1\" class=\"dataframe\">\n",
       "  <thead>\n",
       "    <tr style=\"text-align: right;\">\n",
       "      <th></th>\n",
       "      <th>client_id</th>\n",
       "      <th>bal</th>\n",
       "    </tr>\n",
       "  </thead>\n",
       "  <tbody>\n",
       "    <tr>\n",
       "      <th>331092</th>\n",
       "      <td>9020160</td>\n",
       "      <td>13789.42</td>\n",
       "    </tr>\n",
       "  </tbody>\n",
       "</table>\n",
       "</div>"
      ],
      "text/plain": [
       "        client_id       bal\n",
       "331092    9020160  13789.42"
      ]
     },
     "execution_count": 4,
     "metadata": {},
     "output_type": "execute_result"
    }
   ],
   "source": [
    "df_bal_sort = df[[\"client_id\", \"bal\"]].sort_values(by='bal', ascending=True)\n",
    "df_bal_sort.head(1)\n"
   ]
  },
  {
   "cell_type": "code",
   "execution_count": 5,
   "metadata": {},
   "outputs": [
    {
     "name": "stdout",
     "output_type": "stream",
     "text": [
      " our client with less bal is: client_id    9020160.00\n",
      "bal            13789.42\n",
      "Name: 331092, dtype: float64\n"
     ]
    }
   ],
   "source": [
    "first_bal_value = df_bal_sort.iloc[0]\n",
    "print(f' our client with less bal is:', first_bal_value)"
   ]
  },
  {
   "cell_type": "code",
   "execution_count": 6,
   "metadata": {},
   "outputs": [],
   "source": [
    "# Our primary clients that are using this online process are al clientes with more then 13.700$ "
   ]
  },
  {
   "cell_type": "code",
   "execution_count": null,
   "metadata": {},
   "outputs": [],
   "source": [
    "\n",
    "\n"
   ]
  },
  {
   "cell_type": "markdown",
   "metadata": {},
   "source": [
    "- Are the primary clients younger or older"
   ]
  },
  {
   "cell_type": "code",
   "execution_count": 7,
   "metadata": {},
   "outputs": [
    {
     "data": {
      "text/html": [
       "<div>\n",
       "<style scoped>\n",
       "    .dataframe tbody tr th:only-of-type {\n",
       "        vertical-align: middle;\n",
       "    }\n",
       "\n",
       "    .dataframe tbody tr th {\n",
       "        vertical-align: top;\n",
       "    }\n",
       "\n",
       "    .dataframe thead th {\n",
       "        text-align: right;\n",
       "    }\n",
       "</style>\n",
       "<table border=\"1\" class=\"dataframe\">\n",
       "  <thead>\n",
       "    <tr style=\"text-align: right;\">\n",
       "      <th></th>\n",
       "      <th>clnt_age</th>\n",
       "    </tr>\n",
       "  </thead>\n",
       "  <tbody>\n",
       "    <tr>\n",
       "      <th>count</th>\n",
       "      <td>449690.000000</td>\n",
       "    </tr>\n",
       "    <tr>\n",
       "      <th>mean</th>\n",
       "      <td>47.654137</td>\n",
       "    </tr>\n",
       "    <tr>\n",
       "      <th>std</th>\n",
       "      <td>15.742206</td>\n",
       "    </tr>\n",
       "    <tr>\n",
       "      <th>min</th>\n",
       "      <td>13.500000</td>\n",
       "    </tr>\n",
       "    <tr>\n",
       "      <th>25%</th>\n",
       "      <td>33.500000</td>\n",
       "    </tr>\n",
       "    <tr>\n",
       "      <th>50%</th>\n",
       "      <td>49.000000</td>\n",
       "    </tr>\n",
       "    <tr>\n",
       "      <th>75%</th>\n",
       "      <td>60.000000</td>\n",
       "    </tr>\n",
       "    <tr>\n",
       "      <th>max</th>\n",
       "      <td>96.000000</td>\n",
       "    </tr>\n",
       "  </tbody>\n",
       "</table>\n",
       "</div>"
      ],
      "text/plain": [
       "            clnt_age\n",
       "count  449690.000000\n",
       "mean       47.654137\n",
       "std        15.742206\n",
       "min        13.500000\n",
       "25%        33.500000\n",
       "50%        49.000000\n",
       "75%        60.000000\n",
       "max        96.000000"
      ]
     },
     "execution_count": 7,
     "metadata": {},
     "output_type": "execute_result"
    }
   ],
   "source": [
    "df_age = df[[\"clnt_age\"]]\n",
    "df_age.describe()"
   ]
  },
  {
   "cell_type": "code",
   "execution_count": 8,
   "metadata": {},
   "outputs": [],
   "source": [
    "age_max = df[\"clnt_age\"].max()  \n",
    "age_min = df[\"clnt_age\"].min()   \n",
    "age_avg = df[\"clnt_age\"].mean()   "
   ]
  },
  {
   "cell_type": "code",
   "execution_count": 9,
   "metadata": {},
   "outputs": [
    {
     "name": "stdout",
     "output_type": "stream",
     "text": [
      " Our older customer is 96 years old\n",
      " Our younger customer is 14 years old\n",
      " The Average age of our customers is 48 years old\n"
     ]
    }
   ],
   "source": [
    "print(f\" Our older customer is {age_max:.0f} years old\")\n",
    "print(f\" Our younger customer is {age_min:.0f} years old\")\n",
    "print(f\" The Average age of our customers is {age_avg:.0f} years old\")"
   ]
  },
  {
   "cell_type": "code",
   "execution_count": null,
   "metadata": {},
   "outputs": [],
   "source": []
  },
  {
   "cell_type": "markdown",
   "metadata": {},
   "source": [
    "- Are the primary clients new or long-standing?"
   ]
  },
  {
   "cell_type": "code",
   "execution_count": 10,
   "metadata": {},
   "outputs": [],
   "source": [
    "age_c_max = df[\"clnt_tenure_yr\"].max()  \n",
    "age_c_min = df[\"clnt_tenure_yr\"].min()   \n",
    "age_c_avg = df[\"clnt_tenure_yr\"].mean()   "
   ]
  },
  {
   "cell_type": "code",
   "execution_count": 11,
   "metadata": {},
   "outputs": [
    {
     "name": "stdout",
     "output_type": "stream",
     "text": [
      " Our older customer as clients is 62 years old\n",
      " Our younger customer as clients is 2 years old\n",
      " The Average age of our customers as client is 12 years old\n"
     ]
    }
   ],
   "source": [
    "print(f\" Our older customer as clients is {age_c_max:.0f} years old\")\n",
    "print(f\" Our younger customer as clients is {age_c_min:.0f} years old\")\n",
    "print(f\" The Average age of our customers as client is {age_c_avg:.0f} years old\")"
   ]
  },
  {
   "cell_type": "code",
   "execution_count": null,
   "metadata": {},
   "outputs": [],
   "source": []
  },
  {
   "cell_type": "code",
   "execution_count": null,
   "metadata": {},
   "outputs": [],
   "source": []
  },
  {
   "cell_type": "code",
   "execution_count": 12,
   "metadata": {},
   "outputs": [
    {
     "data": {
      "text/plain": [
       "process_step\n",
       "start      145537\n",
       "step_1      95861\n",
       "step_2      79548\n",
       "step_3      68201\n",
       "confirm     60543\n",
       "Name: count, dtype: int64"
      ]
     },
     "execution_count": 12,
     "metadata": {},
     "output_type": "execute_result"
    }
   ],
   "source": [
    "# Explore patterns\n",
    "df['process_step'].value_counts()"
   ]
  },
  {
   "cell_type": "code",
   "execution_count": null,
   "metadata": {},
   "outputs": [],
   "source": []
  },
  {
   "cell_type": "code",
   "execution_count": 13,
   "metadata": {},
   "outputs": [
    {
     "data": {
      "text/plain": [
       "clnt_age\n",
       "58.5        6432\n",
       "57.5        6115\n",
       "52.5        6061\n",
       "59.5        6037\n",
       "55.5        5913\n",
       "            ... \n",
       "96.0          10\n",
       "14.0          10\n",
       "13.5           9\n",
       "95.5           6\n",
       "94.5           5\n",
       "Name: count, Length: 165, dtype: int64"
      ]
     },
     "execution_count": 13,
     "metadata": {},
     "output_type": "execute_result"
    }
   ],
   "source": [
    "df_age_count = df_age.value_counts()\n",
    "df_age_count"
   ]
  },
  {
   "cell_type": "code",
   "execution_count": null,
   "metadata": {},
   "outputs": [],
   "source": []
  },
  {
   "cell_type": "code",
   "execution_count": 26,
   "metadata": {},
   "outputs": [
    {
     "data": {
      "image/png": "[encoded data removed]",
      "text/plain": [
       "<Figure size 640x480 with 1 Axes>"
      ]
     },
     "metadata": {},
     "output_type": "display_data"
    }
   ],
   "source": [
    "   # Demographic analysis\n",
    "import pandas as pd\n",
    "import matplotlib.pyplot as plt\n",
    "\n",
    "# Supondo que 'df' seja o seu DataFrame com as idades\n",
    "\n",
    "# Primeiro, conte a quantidade de pessoas por idade\n",
    "df_age_count = df['clnt_age'].value_counts().sort_index()\n",
    "\n",
    "# Encontrar a idade com o valor máximo\n",
    "max_age = df_age_count.idxmax()\n",
    "\n",
    "# Adicione uma linha vertical representando a idade com mais pessoas\n",
    "plt.axvline(x=max_age, color='r', linestyle='--', label=f'Mais pessoas em {max_age} anos')\n",
    "\n",
    "# Em seguida, crie o histograma\n",
    "plt.bar(df_age_count.index, df_age_count.values)\n",
    "\n",
    "# Adicione rótulos ao eixo x e y\n",
    "plt.xlabel('Age')\n",
    "plt.ylabel('Number of customers')\n",
    "\n",
    "# Adicione um título ao gráfico\n",
    "plt.title('Age Distribution')\n",
    "\n",
    "# Exiba o gráfico\n",
    "plt.show()\n",
    "\n",
    "\n"
   ]
  },
  {
   "cell_type": "code",
   "execution_count": 38,
   "metadata": {},
   "outputs": [
    {
     "data": {
      "image/png": "[encoded data removed]",
      "text/plain": [
       "<Figure size 640x480 with 1 Axes>"
      ]
     },
     "metadata": {},
     "output_type": "display_data"
    }
   ],
   "source": [
    "import pandas as pd\n",
    "import matplotlib.pyplot as plt\n",
    "\n",
    "# Supondo que 'df' seja o seu DataFrame com as idades\n",
    "\n",
    "# Primeiro, conte a quantidade de pessoas por idade\n",
    "df_age_count = df['clnt_age'].value_counts().sort_index()\n",
    "\n",
    "# Encontrar a idade com o valor máximo\n",
    "max_age = df_age_count.idxmax()\n",
    "\n",
    "# Calcular a média das idades\n",
    "mean_age = df['clnt_age'].mean()\n",
    "\n",
    "# Em seguida, crie o histograma\n",
    "plt.bar(df_age_count.index, df_age_count.values)\n",
    "\n",
    "# Adicione uma linha vertical representando a idade com mais pessoas\n",
    "plt.axvline(x=max_age, color='r', linestyle='--', label=f'More customers with {max_age:.0f} years')\n",
    "\n",
    "# Adicione uma linha vertical representando a média das idades\n",
    "plt.axvline(x=mean_age, color='y', linestyle='--', label=f'Average age {mean_age:.0f} years')\n",
    "\n",
    "# Adicione rótulos ao eixo x e y\n",
    "plt.xlabel('Age')\n",
    "plt.ylabel('Number of customers')\n",
    "\n",
    "# Adicione um título ao gráfico\n",
    "plt.title('Age Distribution')\n",
    "\n",
    "# Adicione uma legenda\n",
    "plt.legend()\n",
    "\n",
    "# Exiba o gráfico\n",
    "plt.show()"
   ]
  },
  {
   "cell_type": "code",
   "execution_count": null,
   "metadata": {},
   "outputs": [],
   "source": [
    "   # Temporal analysis\n",
    "\n",
    "df['date_time'] = pd.to_datetime(df['date_time'])"
   ]
  },
  {
   "cell_type": "code",
   "execution_count": null,
   "metadata": {},
   "outputs": [],
   "source": [
    "df.loc[:, 'date_time'] = pd.to_datetime(df['date_time'])"
   ]
  },
  {
   "cell_type": "code",
   "execution_count": null,
   "metadata": {},
   "outputs": [],
   "source": [
    "df['date_time']"
   ]
  },
  {
   "cell_type": "code",
   "execution_count": null,
   "metadata": {},
   "outputs": [],
   "source": [
    "import matplotlib.pyplot as plt\n",
    "\n",
    "df['date_time'].hist()\n",
    "plt.xticks(rotation=45)\n",
    "plt.show()\n"
   ]
  },
  {
   "cell_type": "code",
   "execution_count": null,
   "metadata": {},
   "outputs": [],
   "source": []
  },
  {
   "cell_type": "code",
   "execution_count": null,
   "metadata": {},
   "outputs": [],
   "source": [
    "df['client_id'].nunique()"
   ]
  },
  {
   "cell_type": "code",
   "execution_count": null,
   "metadata": {},
   "outputs": [],
   "source": [
    "# this is counting all the duplicates  because we only have 70.594 clients \n",
    "\n"
   ]
  },
  {
   "cell_type": "code",
   "execution_count": null,
   "metadata": {},
   "outputs": [],
   "source": [
    "# Define metrics\n",
    "control_completion_rate = df[df['Variation'] == 'Control']['process_step'].value_counts(normalize=True)\n",
    "test_completion_rate = df[df['Variation'] == 'Test']['process_step'].value_counts(normalize=True)\n",
    "\n",
    "# Calculate completion rates\n",
    "print(\"Control Group Completion Rate:\", control_completion_rate)\n",
    "\n",
    "print(\"__________________________________\")\n",
    "print(\"\")\n",
    "print(\"Test Group Completion Rate:\", test_completion_rate)"
   ]
  },
  {
   "cell_type": "code",
   "execution_count": null,
   "metadata": {},
   "outputs": [],
   "source": []
  },
  {
   "cell_type": "code",
   "execution_count": null,
   "metadata": {},
   "outputs": [],
   "source": [
    "# Visualize outcomes\n",
    "import matplotlib.pyplot as plt\n",
    "control_completion_rate.plot(kind='bar', title='Control Group Completion Rate', cmap='brg')\n",
    "plt.show()\n",
    "test_completion_rate.plot(kind='bar', title='Test Group Completion Rate')\n",
    "plt.show()"
   ]
  },
  {
   "cell_type": "code",
   "execution_count": null,
   "metadata": {},
   "outputs": [],
   "source": []
  },
  {
   "cell_type": "code",
   "execution_count": null,
   "metadata": {},
   "outputs": [],
   "source": []
  },
  {
   "cell_type": "code",
   "execution_count": null,
   "metadata": {},
   "outputs": [],
   "source": [
    "from scipy.stats import ttest_ind\n",
    "\n",
    "\n",
    "# Extract numerical part of process_step column\n",
    "control_process_steps = df[df['Variation'] == 'Control']['process_step'].str.extract('(\\d+)', expand=False).fillna(-1).astype(float)\n",
    "test_process_steps = df[df['Variation'] == 'Test']['process_step'].str.extract('(\\d+)', expand=False).fillna(-1).astype(float)\n",
    "# Perform hypothesis test\n",
    "t_stat, p_value = ttest_ind(control_process_steps, test_process_steps)\n",
    "print(\"T-statistic:\", t_stat)\n",
    "print(\"P-value:\", p_value)"
   ]
  },
  {
   "cell_type": "code",
   "execution_count": null,
   "metadata": {},
   "outputs": [],
   "source": []
  },
  {
   "cell_type": "code",
   "execution_count": null,
   "metadata": {},
   "outputs": [],
   "source": [
    "print(\"T-statistic:\", t_stat)\n",
    "print(\"P-value:\", p_value)"
   ]
  },
  {
   "cell_type": "code",
   "execution_count": null,
   "metadata": {},
   "outputs": [],
   "source": [
    "print(df['process_step'].value_counts())"
   ]
  },
  {
   "cell_type": "code",
   "execution_count": null,
   "metadata": {},
   "outputs": [],
   "source": []
  },
  {
   "cell_type": "code",
   "execution_count": null,
   "metadata": {},
   "outputs": [],
   "source": []
  },
  {
   "cell_type": "code",
   "execution_count": null,
   "metadata": {},
   "outputs": [],
   "source": []
  },
  {
   "cell_type": "code",
   "execution_count": null,
   "metadata": {},
   "outputs": [],
   "source": [
    "import pandas as pd\n",
    "\n",
    "\n",
    "\n",
    "# Inicializar um dicionário para armazenar as contagens\n",
    "count_dict = {}\n",
    "\n",
    "# Percorrer o DataFrame\n",
    "for index, row in df.iterrows():\n",
    "    steps = row['process_step'].split()  # Separar as palavras da coluna process_step\n",
    "    current_count = 1  # Inicializar a contagem\n",
    "    for step in steps:\n",
    "        key = f\"{row['client_id']}_{step}\"  # Criar a chave para o dicionário\n",
    "        if key in count_dict:  # Verificar se a chave já existe no dicionário\n",
    "            count_dict[key] += current_count  # Incrementar a contagem\n",
    "        else:\n",
    "            count_dict[key] = current_count  # Adicionar a chave ao dicionário com a contagem inicial\n",
    "        current_count += 1  # Incrementar a contagem para a próxima iteração\n",
    "\n",
    "# Criar um novo DataFrame a partir do dicionário\n",
    "new_df_steps_count = pd.DataFrame(list(count_dict.items()), columns=['key', 'count'])\n",
    "\n",
    "print(new_df_steps_count)"
   ]
  },
  {
   "cell_type": "code",
   "execution_count": null,
   "metadata": {},
   "outputs": [],
   "source": [
    "new_df_steps_count.head(10)"
   ]
  },
  {
   "cell_type": "code",
   "execution_count": null,
   "metadata": {},
   "outputs": [],
   "source": [
    "\"\"\"\n",
    "import pandas as pd\n",
    "\n",
    "\n",
    "# Inicializar um dicionário para armazenar as contagens\n",
    "count_dict = {}\n",
    "\n",
    "# Percorrer o DataFrame\n",
    "for index, row in df.iterrows():\n",
    "    steps = row['process_step'].split()  # Separar as palavras da coluna process_step\n",
    "    current_count = 1  # Inicializar a contagem\n",
    "    for step in steps:\n",
    "        key = (row['client_id'], step)  # Criar a chave para o dicionário\n",
    "        if key in count_dict:  # Verificar se a chave já existe no dicionário\n",
    "            count_dict[key] += current_count  # Incrementar a contagem\n",
    "        else:\n",
    "            count_dict[key] = current_count  # Adicionar a chave ao dicionário com a contagem inicial\n",
    "        current_count += 1  # Incrementar a contagem para a próxima iteração\n",
    "\n",
    "# Criar um novo DataFrame a partir do dicionário\n",
    "new_df_s = pd.DataFrame(list(count_dict.items()), columns=['key', 'count'])\n",
    "new_df_s[['client_id', 'process_step']] = pd.DataFrame(new_df_s['key'].tolist(), index=new_df_s.index)  # Separar a chave em colunas \"client_id\" e \"process_step\"\n",
    "new_df_s = new_df_s.pivot(index='client_id', columns='process_step', values='count').reset_index()  # Transformar dados em formato de tabela\n",
    "new_df_s = new_df_s.fillna(0)  # Preencher valores nulos com 0\n",
    "\n",
    "print(new_df_s)\n",
    "\"\"\""
   ]
  },
  {
   "cell_type": "code",
   "execution_count": null,
   "metadata": {},
   "outputs": [],
   "source": [
    "new_df_s\n"
   ]
  },
  {
   "cell_type": "code",
   "execution_count": null,
   "metadata": {},
   "outputs": [],
   "source": [
    "new_df_merged = pd.merge(new_df_s, df, on='client_id', how='left')\n",
    "new_df_merged "
   ]
  },
  {
   "cell_type": "code",
   "execution_count": null,
   "metadata": {},
   "outputs": [],
   "source": [
    "\n",
    "new_df_merged\n"
   ]
  },
  {
   "cell_type": "code",
   "execution_count": null,
   "metadata": {},
   "outputs": [],
   "source": []
  },
  {
   "cell_type": "code",
   "execution_count": null,
   "metadata": {},
   "outputs": [],
   "source": []
  },
  {
   "cell_type": "code",
   "execution_count": null,
   "metadata": {},
   "outputs": [],
   "source": []
  },
  {
   "cell_type": "code",
   "execution_count": null,
   "metadata": {},
   "outputs": [],
   "source": [
    "import pandas as pd\n",
    "\n",
    "\n",
    "\n",
    "# Convertendo a coluna data_hora para o formato de data e hora\n",
    "new_df_merged['date_time'] = pd.to_datetime(df['date_time'])\n",
    "\n",
    "# Criando novas colunas para armazenar a data e a hora separadamente\n",
    "new_df_merged['date'] = new_df_merged['date_time'].dt.date\n",
    "new_df_merged['time'] = new_df_merged['date_time'].dt.time\n",
    "\n",
    "# Exibindo o DataFrame resultante\n",
    "new_df_merged"
   ]
  },
  {
   "cell_type": "code",
   "execution_count": null,
   "metadata": {},
   "outputs": [],
   "source": [
    "new_df_merged = new_df_merged.drop('date_time', axis=1)\n",
    "new_df_merged"
   ]
  },
  {
   "cell_type": "code",
   "execution_count": null,
   "metadata": {},
   "outputs": [],
   "source": []
  },
  {
   "cell_type": "code",
   "execution_count": null,
   "metadata": {},
   "outputs": [],
   "source": [
    "\n",
    "new_df_merged.to_excel('merged_data.xlsx', index=False)"
   ]
  },
  {
   "cell_type": "code",
   "execution_count": null,
   "metadata": {},
   "outputs": [],
   "source": []
  }
 ],
 "metadata": {
  "kernelspec": {
   "display_name": "Python 3",
   "language": "python",
   "name": "python3"
  },
  "language_info": {
   "codemirror_mode": {
    "name": "ipython",
    "version": 3
   },
   "file_extension": ".py",
   "mimetype": "text/x-python",
   "name": "python",
   "nbconvert_exporter": "python",
   "pygments_lexer": "ipython3",
   "version": "3.12.2"
  }
 },
 "nbformat": 4,
 "nbformat_minor": 2
}
