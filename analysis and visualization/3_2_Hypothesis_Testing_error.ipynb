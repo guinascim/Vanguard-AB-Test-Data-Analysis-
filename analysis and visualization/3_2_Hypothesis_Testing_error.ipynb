{
 "cells": [
  {
   "cell_type": "markdown",
   "metadata": {},
   "source": [
    "<span style=\"font-size: 30px;\">\n",
    "\n",
    "**Hypothesis Testing  - Error**\n",
    "\n",
    "</span>\n",
    "\n",
    "As part of your analysis, you’ll conduct hypothesis testing to make data-driven conclusions about the effectiveness of the redesign. See the full details below:\n",
    "\n",
    "Completion Rate\n",
    "Given the data and KPIs you have explored discussed, one interesting hypothesis to test is related to the completion rate between the Test and Control groups. Since the new design (Test group) had a higher completion rate compared to the old design (Control group), you are required to confirm if this difference is statistically significant.\n",
    "\n",
    "Make sure to define the proper null and an alternative hypothesis to test it. Use the provided data to test these hypotheses, and determine if you can reject the null hypothesis in favor of the alternative. Make sure to consider the significance level, p-value, the statistical test prerequisites, and other relevant statistical measures in your analysis.\n",
    "\n",
    "Completion Rate with a Cost-Effectiveness Threshold\n",
    "The introduction of a new UI design comes with its associated costs: design, development, testing, potential training for staff, and possible short-term disruptions or adjustments for users. To justify these costs, Vanguard has determined that any new design should lead to a minimum increase in the completion rate to be deemed cost-effective.\n",
    "\n",
    "Threshold: Vanguard has set this minimum increase in completion rate at 5%. This is the rate at which the projected benefits, in terms of increased user engagement and potential revenue, are estimated to outweigh the costs of the new design.\n",
    "\n",
    "You are required to carry out another analysis, ensuring that the observed increase in completion rate from the A/B test meets or exceeds this 5% threshold. If the new design doesn’t lead to at least this level of improvement, it may not be justifiable from a cost perspective, regardless of its statistical significance.\n",
    "\n",
    "Other Hypothesis Examples\n",
    "You have been given the freedom to choose another hypothesis to test. Here are some examples:\n",
    "\n",
    "You might want to test whether the average age of clients engaging with the new process is the same as those engaging with the old process\n",
    "You might want to test if the average client tenure (how long they’ve been with Vanguard) of those engaging with the new process is the same as those engaging with the old process\n",
    "You might want to test if there are gender differences that affect engaging with the new or old process\n",
    "Make sure to define the proper null and alternative hypothesis to test it. You are required to choose one or come up with another of your own to test.\n",
    "\n",
    "\n",
    "\n",
    "\n",
    "\n",
    "    **Experiment Evaluation**\n",
    "\n",
    "You are also required to carry out an evaluation of the experiment by answering questions about the design effectiveness, duration and any additional data needs. See the full details below:\n",
    "\n",
    "Design Effectiveness\n",
    "Was the experiment well-structured?\n",
    "Were clients randomly and equally divided between the old and new designs?\n",
    "Were there any biases?\n",
    "Duration Assessment\n",
    "Was the timeframe of the experiment (from 3/15/2017 to 6/20/2017) adequate to gather meaningful data and insights?\n",
    "\n",
    "Additional Data Needs\n",
    "What other data, if available, could enhance the analysis?"
   ]
  },
  {
   "cell_type": "code",
   "execution_count": 28,
   "metadata": {},
   "outputs": [],
   "source": [
    "import pandas as pd\n",
    "\n",
    "\n",
    "df_gold_test_e = pd.read_excel(\"Data_gold_test_error.xlsx\")\n",
    "df_gold_control_e = pd.read_excel(\"Data_gold_control_error.xlsx\")"
   ]
  },
  {
   "cell_type": "code",
   "execution_count": null,
   "metadata": {},
   "outputs": [],
   "source": []
  },
  {
   "cell_type": "markdown",
   "metadata": {},
   "source": [
    "# Data Gold Test"
   ]
  },
  {
   "cell_type": "code",
   "execution_count": 29,
   "metadata": {},
   "outputs": [
    {
     "data": {
      "text/html": [
       "<div>\n",
       "<style scoped>\n",
       "    .dataframe tbody tr th:only-of-type {\n",
       "        vertical-align: middle;\n",
       "    }\n",
       "\n",
       "    .dataframe tbody tr th {\n",
       "        vertical-align: top;\n",
       "    }\n",
       "\n",
       "    .dataframe thead th {\n",
       "        text-align: right;\n",
       "    }\n",
       "</style>\n",
       "<table border=\"1\" class=\"dataframe\">\n",
       "  <thead>\n",
       "    <tr style=\"text-align: right;\">\n",
       "      <th></th>\n",
       "      <th>client_id</th>\n",
       "      <th>Variation</th>\n",
       "      <th>visit_id</th>\n",
       "      <th>confirm</th>\n",
       "      <th>start</th>\n",
       "      <th>step_1</th>\n",
       "      <th>step_2</th>\n",
       "      <th>step_3</th>\n",
       "      <th>complete</th>\n",
       "      <th>Error</th>\n",
       "      <th>N_er_st_s1</th>\n",
       "      <th>N_er_s1_s2</th>\n",
       "      <th>N_er_s2_s3</th>\n",
       "      <th>N_er_s3_con</th>\n",
       "      <th>Total errors</th>\n",
       "    </tr>\n",
       "  </thead>\n",
       "  <tbody>\n",
       "    <tr>\n",
       "      <th>0</th>\n",
       "      <td>346781</td>\n",
       "      <td>Test</td>\n",
       "      <td>138480024_16310699196_180947</td>\n",
       "      <td>1</td>\n",
       "      <td>1</td>\n",
       "      <td>1</td>\n",
       "      <td>1</td>\n",
       "      <td>1</td>\n",
       "      <td>1.0</td>\n",
       "      <td>0</td>\n",
       "      <td>0.0</td>\n",
       "      <td>0.0</td>\n",
       "      <td>0.0</td>\n",
       "      <td>0.0</td>\n",
       "      <td>0.0</td>\n",
       "    </tr>\n",
       "    <tr>\n",
       "      <th>1</th>\n",
       "      <td>6038525</td>\n",
       "      <td>Test</td>\n",
       "      <td>160662411_47414103546_387098</td>\n",
       "      <td>1</td>\n",
       "      <td>1</td>\n",
       "      <td>1</td>\n",
       "      <td>1</td>\n",
       "      <td>1</td>\n",
       "      <td>1.0</td>\n",
       "      <td>0</td>\n",
       "      <td>0.0</td>\n",
       "      <td>0.0</td>\n",
       "      <td>0.0</td>\n",
       "      <td>0.0</td>\n",
       "      <td>0.0</td>\n",
       "    </tr>\n",
       "    <tr>\n",
       "      <th>2</th>\n",
       "      <td>6219677</td>\n",
       "      <td>Test</td>\n",
       "      <td>402500490_59473331055_178140</td>\n",
       "      <td>1</td>\n",
       "      <td>3</td>\n",
       "      <td>3</td>\n",
       "      <td>4</td>\n",
       "      <td>2</td>\n",
       "      <td>1.0</td>\n",
       "      <td>1</td>\n",
       "      <td>0.0</td>\n",
       "      <td>1.0</td>\n",
       "      <td>2.0</td>\n",
       "      <td>1.0</td>\n",
       "      <td>4.0</td>\n",
       "    </tr>\n",
       "    <tr>\n",
       "      <th>3</th>\n",
       "      <td>6219677</td>\n",
       "      <td>Test</td>\n",
       "      <td>733647053_97830081870_147132</td>\n",
       "      <td>0</td>\n",
       "      <td>4</td>\n",
       "      <td>4</td>\n",
       "      <td>4</td>\n",
       "      <td>2</td>\n",
       "      <td>0.0</td>\n",
       "      <td>1</td>\n",
       "      <td>0.0</td>\n",
       "      <td>0.0</td>\n",
       "      <td>2.0</td>\n",
       "      <td>2.0</td>\n",
       "      <td>4.0</td>\n",
       "    </tr>\n",
       "    <tr>\n",
       "      <th>4</th>\n",
       "      <td>6219677</td>\n",
       "      <td>Test</td>\n",
       "      <td>237397313_76996853966_974538</td>\n",
       "      <td>0</td>\n",
       "      <td>3</td>\n",
       "      <td>2</td>\n",
       "      <td>2</td>\n",
       "      <td>2</td>\n",
       "      <td>0.0</td>\n",
       "      <td>1</td>\n",
       "      <td>1.0</td>\n",
       "      <td>0.0</td>\n",
       "      <td>0.0</td>\n",
       "      <td>2.0</td>\n",
       "      <td>3.0</td>\n",
       "    </tr>\n",
       "    <tr>\n",
       "      <th>...</th>\n",
       "      <td>...</td>\n",
       "      <td>...</td>\n",
       "      <td>...</td>\n",
       "      <td>...</td>\n",
       "      <td>...</td>\n",
       "      <td>...</td>\n",
       "      <td>...</td>\n",
       "      <td>...</td>\n",
       "      <td>...</td>\n",
       "      <td>...</td>\n",
       "      <td>...</td>\n",
       "      <td>...</td>\n",
       "      <td>...</td>\n",
       "      <td>...</td>\n",
       "      <td>...</td>\n",
       "    </tr>\n",
       "    <tr>\n",
       "      <th>5553</th>\n",
       "      <td>5492897</td>\n",
       "      <td>Test</td>\n",
       "      <td>772609923_69272363513_45475</td>\n",
       "      <td>1</td>\n",
       "      <td>1</td>\n",
       "      <td>1</td>\n",
       "      <td>1</td>\n",
       "      <td>1</td>\n",
       "      <td>1.0</td>\n",
       "      <td>0</td>\n",
       "      <td>0.0</td>\n",
       "      <td>0.0</td>\n",
       "      <td>0.0</td>\n",
       "      <td>0.0</td>\n",
       "      <td>0.0</td>\n",
       "    </tr>\n",
       "    <tr>\n",
       "      <th>5554</th>\n",
       "      <td>5492897</td>\n",
       "      <td>Test</td>\n",
       "      <td>476101525_35474335958_420184</td>\n",
       "      <td>1</td>\n",
       "      <td>0</td>\n",
       "      <td>0</td>\n",
       "      <td>0</td>\n",
       "      <td>0</td>\n",
       "      <td>NaN</td>\n",
       "      <td>1</td>\n",
       "      <td>NaN</td>\n",
       "      <td>NaN</td>\n",
       "      <td>NaN</td>\n",
       "      <td>1.0</td>\n",
       "      <td>NaN</td>\n",
       "    </tr>\n",
       "    <tr>\n",
       "      <th>5555</th>\n",
       "      <td>9684806</td>\n",
       "      <td>Test</td>\n",
       "      <td>304868249_69734281141_323816</td>\n",
       "      <td>0</td>\n",
       "      <td>3</td>\n",
       "      <td>2</td>\n",
       "      <td>1</td>\n",
       "      <td>1</td>\n",
       "      <td>0.0</td>\n",
       "      <td>1</td>\n",
       "      <td>1.0</td>\n",
       "      <td>1.0</td>\n",
       "      <td>0.0</td>\n",
       "      <td>1.0</td>\n",
       "      <td>3.0</td>\n",
       "    </tr>\n",
       "    <tr>\n",
       "      <th>5556</th>\n",
       "      <td>4084839</td>\n",
       "      <td>Test</td>\n",
       "      <td>800911487_42591652049_196692</td>\n",
       "      <td>1</td>\n",
       "      <td>1</td>\n",
       "      <td>1</td>\n",
       "      <td>1</td>\n",
       "      <td>1</td>\n",
       "      <td>1.0</td>\n",
       "      <td>0</td>\n",
       "      <td>0.0</td>\n",
       "      <td>0.0</td>\n",
       "      <td>0.0</td>\n",
       "      <td>0.0</td>\n",
       "      <td>0.0</td>\n",
       "    </tr>\n",
       "    <tr>\n",
       "      <th>5557</th>\n",
       "      <td>9646248</td>\n",
       "      <td>Test</td>\n",
       "      <td>161730376_52165437931_639965</td>\n",
       "      <td>0</td>\n",
       "      <td>2</td>\n",
       "      <td>3</td>\n",
       "      <td>4</td>\n",
       "      <td>1</td>\n",
       "      <td>1.0</td>\n",
       "      <td>1</td>\n",
       "      <td>1.0</td>\n",
       "      <td>1.0</td>\n",
       "      <td>3.0</td>\n",
       "      <td>1.0</td>\n",
       "      <td>6.0</td>\n",
       "    </tr>\n",
       "  </tbody>\n",
       "</table>\n",
       "<p>5558 rows × 15 columns</p>\n",
       "</div>"
      ],
      "text/plain": [
       "      client_id Variation                      visit_id  confirm  start  \\\n",
       "0        346781      Test  138480024_16310699196_180947        1      1   \n",
       "1       6038525      Test  160662411_47414103546_387098        1      1   \n",
       "2       6219677      Test  402500490_59473331055_178140        1      3   \n",
       "3       6219677      Test  733647053_97830081870_147132        0      4   \n",
       "4       6219677      Test  237397313_76996853966_974538        0      3   \n",
       "...         ...       ...                           ...      ...    ...   \n",
       "5553    5492897      Test   772609923_69272363513_45475        1      1   \n",
       "5554    5492897      Test  476101525_35474335958_420184        1      0   \n",
       "5555    9684806      Test  304868249_69734281141_323816        0      3   \n",
       "5556    4084839      Test  800911487_42591652049_196692        1      1   \n",
       "5557    9646248      Test  161730376_52165437931_639965        0      2   \n",
       "\n",
       "      step_1  step_2  step_3  complete  Error  N_er_st_s1  N_er_s1_s2  \\\n",
       "0          1       1       1       1.0      0         0.0         0.0   \n",
       "1          1       1       1       1.0      0         0.0         0.0   \n",
       "2          3       4       2       1.0      1         0.0         1.0   \n",
       "3          4       4       2       0.0      1         0.0         0.0   \n",
       "4          2       2       2       0.0      1         1.0         0.0   \n",
       "...      ...     ...     ...       ...    ...         ...         ...   \n",
       "5553       1       1       1       1.0      0         0.0         0.0   \n",
       "5554       0       0       0       NaN      1         NaN         NaN   \n",
       "5555       2       1       1       0.0      1         1.0         1.0   \n",
       "5556       1       1       1       1.0      0         0.0         0.0   \n",
       "5557       3       4       1       1.0      1         1.0         1.0   \n",
       "\n",
       "      N_er_s2_s3  N_er_s3_con  Total errors  \n",
       "0            0.0          0.0           0.0  \n",
       "1            0.0          0.0           0.0  \n",
       "2            2.0          1.0           4.0  \n",
       "3            2.0          2.0           4.0  \n",
       "4            0.0          2.0           3.0  \n",
       "...          ...          ...           ...  \n",
       "5553         0.0          0.0           0.0  \n",
       "5554         NaN          1.0           NaN  \n",
       "5555         0.0          1.0           3.0  \n",
       "5556         0.0          0.0           0.0  \n",
       "5557         3.0          1.0           6.0  \n",
       "\n",
       "[5558 rows x 15 columns]"
      ]
     },
     "execution_count": 29,
     "metadata": {},
     "output_type": "execute_result"
    }
   ],
   "source": [
    "df_gold_test_e"
   ]
  },
  {
   "cell_type": "code",
   "execution_count": 30,
   "metadata": {},
   "outputs": [
    {
     "data": {
      "text/plain": [
       "8225.0"
      ]
     },
     "execution_count": 30,
     "metadata": {},
     "output_type": "execute_result"
    }
   ],
   "source": [
    "df_gold_test_e['Total errors'].sum()"
   ]
  },
  {
   "cell_type": "code",
   "execution_count": 31,
   "metadata": {},
   "outputs": [
    {
     "data": {
      "text/plain": [
       "8225.0"
      ]
     },
     "execution_count": 31,
     "metadata": {},
     "output_type": "execute_result"
    }
   ],
   "source": [
    "df_gold_test_e['Total errors'].sum()"
   ]
  },
  {
   "cell_type": "code",
   "execution_count": 32,
   "metadata": {},
   "outputs": [
    {
     "data": {
      "text/plain": [
       "3853.0"
      ]
     },
     "execution_count": 32,
     "metadata": {},
     "output_type": "execute_result"
    }
   ],
   "source": [
    "# Number errors beteen start and step 1\n",
    "df_gold_test_e['N_er_st_s1'].sum()"
   ]
  },
  {
   "cell_type": "code",
   "execution_count": 33,
   "metadata": {},
   "outputs": [
    {
     "data": {
      "text/plain": [
       "1700.0"
      ]
     },
     "execution_count": 33,
     "metadata": {},
     "output_type": "execute_result"
    }
   ],
   "source": [
    "# Number errors beteen step 1 and step 2 \n",
    "df_gold_test_e['N_er_s1_s2'].sum()"
   ]
  },
  {
   "cell_type": "code",
   "execution_count": 34,
   "metadata": {},
   "outputs": [
    {
     "data": {
      "text/plain": [
       "1147.0"
      ]
     },
     "execution_count": 34,
     "metadata": {},
     "output_type": "execute_result"
    }
   ],
   "source": [
    "# Number errors beteen step 2 and step 3 \n",
    "df_gold_test_e['N_er_s2_s3'].sum()"
   ]
  },
  {
   "cell_type": "code",
   "execution_count": 35,
   "metadata": {},
   "outputs": [
    {
     "data": {
      "text/plain": [
       "2830.0"
      ]
     },
     "execution_count": 35,
     "metadata": {},
     "output_type": "execute_result"
    }
   ],
   "source": [
    "# Number errors beteen step 3 and confirm\n",
    "df_gold_test_e['N_er_s3_con'].sum()"
   ]
  },
  {
   "cell_type": "code",
   "execution_count": 51,
   "metadata": {},
   "outputs": [
    {
     "data": {
      "image/png": "[encoded data removed]",
      "text/plain": [
       "<Figure size 640x480 with 1 Axes>"
      ]
     },
     "metadata": {},
     "output_type": "display_data"
    }
   ],
   "source": [
    "import matplotlib.pyplot as plt\n",
    "\n",
    "# Calculate the sums\n",
    "sum_values = [df_gold_test_e['N_er_st_s1'].sum(),\n",
    "              df_gold_test_e['N_er_s1_s2'].sum(),\n",
    "              df_gold_test_e['N_er_s2_s3'].sum(),\n",
    "              df_gold_test_e['N_er_s3_con'].sum()]\n",
    "\n",
    "# Column names\n",
    "columns = ['Num.error st-s1', 'Num.error s1-s2', 'Num.error s2-s3', 'Num.error s3-con']\n",
    "\n",
    "# Create the bar plot\n",
    "plt.bar(columns, sum_values)\n",
    "plt.xlabel('Columns')\n",
    "plt.ylabel('Sum')\n",
    "plt.xticks(rotation=45)\n",
    "plt.title(\"Sum Erorr's for Gold Test\")\n",
    "plt.show()"
   ]
  },
  {
   "cell_type": "code",
   "execution_count": null,
   "metadata": {},
   "outputs": [],
   "source": []
  },
  {
   "cell_type": "code",
   "execution_count": null,
   "metadata": {},
   "outputs": [],
   "source": []
  },
  {
   "cell_type": "markdown",
   "metadata": {},
   "source": [
    "# Data Gold Control"
   ]
  },
  {
   "cell_type": "code",
   "execution_count": 37,
   "metadata": {},
   "outputs": [
    {
     "data": {
      "text/html": [
       "<div>\n",
       "<style scoped>\n",
       "    .dataframe tbody tr th:only-of-type {\n",
       "        vertical-align: middle;\n",
       "    }\n",
       "\n",
       "    .dataframe tbody tr th {\n",
       "        vertical-align: top;\n",
       "    }\n",
       "\n",
       "    .dataframe thead th {\n",
       "        text-align: right;\n",
       "    }\n",
       "</style>\n",
       "<table border=\"1\" class=\"dataframe\">\n",
       "  <thead>\n",
       "    <tr style=\"text-align: right;\">\n",
       "      <th></th>\n",
       "      <th>client_id</th>\n",
       "      <th>Variation</th>\n",
       "      <th>visit_id</th>\n",
       "      <th>confirm</th>\n",
       "      <th>start</th>\n",
       "      <th>step_1</th>\n",
       "      <th>step_2</th>\n",
       "      <th>step_3</th>\n",
       "      <th>complete</th>\n",
       "      <th>Error</th>\n",
       "      <th>N_er_st_s1</th>\n",
       "      <th>N_er_s1_s2</th>\n",
       "      <th>N_er_s2_s3</th>\n",
       "      <th>N_er_s3_con</th>\n",
       "      <th>Total errors</th>\n",
       "    </tr>\n",
       "  </thead>\n",
       "  <tbody>\n",
       "    <tr>\n",
       "      <th>0</th>\n",
       "      <td>7946939</td>\n",
       "      <td>Control</td>\n",
       "      <td>819610789_74349965849_582778</td>\n",
       "      <td>1</td>\n",
       "      <td>1</td>\n",
       "      <td>1</td>\n",
       "      <td>1</td>\n",
       "      <td>1</td>\n",
       "      <td>1.0</td>\n",
       "      <td>0</td>\n",
       "      <td>0.0</td>\n",
       "      <td>0.0</td>\n",
       "      <td>0.0</td>\n",
       "      <td>0.0</td>\n",
       "      <td>0.0</td>\n",
       "    </tr>\n",
       "    <tr>\n",
       "      <th>1</th>\n",
       "      <td>7179800</td>\n",
       "      <td>Control</td>\n",
       "      <td>834345684_20753053466_629354</td>\n",
       "      <td>3</td>\n",
       "      <td>2</td>\n",
       "      <td>1</td>\n",
       "      <td>1</td>\n",
       "      <td>1</td>\n",
       "      <td>NaN</td>\n",
       "      <td>1</td>\n",
       "      <td>1.0</td>\n",
       "      <td>0.0</td>\n",
       "      <td>0.0</td>\n",
       "      <td>2.0</td>\n",
       "      <td>3.0</td>\n",
       "    </tr>\n",
       "    <tr>\n",
       "      <th>2</th>\n",
       "      <td>7679428</td>\n",
       "      <td>Control</td>\n",
       "      <td>377121016_67032089535_295299</td>\n",
       "      <td>0</td>\n",
       "      <td>2</td>\n",
       "      <td>0</td>\n",
       "      <td>0</td>\n",
       "      <td>0</td>\n",
       "      <td>0.0</td>\n",
       "      <td>1</td>\n",
       "      <td>2.0</td>\n",
       "      <td>0.0</td>\n",
       "      <td>0.0</td>\n",
       "      <td>0.0</td>\n",
       "      <td>2.0</td>\n",
       "    </tr>\n",
       "    <tr>\n",
       "      <th>3</th>\n",
       "      <td>7679428</td>\n",
       "      <td>Control</td>\n",
       "      <td>702065802_57911235390_499219</td>\n",
       "      <td>1</td>\n",
       "      <td>1</td>\n",
       "      <td>1</td>\n",
       "      <td>1</td>\n",
       "      <td>1</td>\n",
       "      <td>1.0</td>\n",
       "      <td>0</td>\n",
       "      <td>0.0</td>\n",
       "      <td>0.0</td>\n",
       "      <td>0.0</td>\n",
       "      <td>0.0</td>\n",
       "      <td>0.0</td>\n",
       "    </tr>\n",
       "    <tr>\n",
       "      <th>4</th>\n",
       "      <td>3654308</td>\n",
       "      <td>Control</td>\n",
       "      <td>726496682_33297666610_800081</td>\n",
       "      <td>0</td>\n",
       "      <td>1</td>\n",
       "      <td>0</td>\n",
       "      <td>0</td>\n",
       "      <td>0</td>\n",
       "      <td>0.0</td>\n",
       "      <td>1</td>\n",
       "      <td>1.0</td>\n",
       "      <td>0.0</td>\n",
       "      <td>0.0</td>\n",
       "      <td>0.0</td>\n",
       "      <td>1.0</td>\n",
       "    </tr>\n",
       "    <tr>\n",
       "      <th>...</th>\n",
       "      <td>...</td>\n",
       "      <td>...</td>\n",
       "      <td>...</td>\n",
       "      <td>...</td>\n",
       "      <td>...</td>\n",
       "      <td>...</td>\n",
       "      <td>...</td>\n",
       "      <td>...</td>\n",
       "      <td>...</td>\n",
       "      <td>...</td>\n",
       "      <td>...</td>\n",
       "      <td>...</td>\n",
       "      <td>...</td>\n",
       "      <td>...</td>\n",
       "      <td>...</td>\n",
       "    </tr>\n",
       "    <tr>\n",
       "      <th>4750</th>\n",
       "      <td>1550660</td>\n",
       "      <td>Control</td>\n",
       "      <td>143274221_81838514499_21074</td>\n",
       "      <td>0</td>\n",
       "      <td>1</td>\n",
       "      <td>1</td>\n",
       "      <td>0</td>\n",
       "      <td>0</td>\n",
       "      <td>0.0</td>\n",
       "      <td>1</td>\n",
       "      <td>0.0</td>\n",
       "      <td>1.0</td>\n",
       "      <td>0.0</td>\n",
       "      <td>0.0</td>\n",
       "      <td>1.0</td>\n",
       "    </tr>\n",
       "    <tr>\n",
       "      <th>4751</th>\n",
       "      <td>2833480</td>\n",
       "      <td>Control</td>\n",
       "      <td>715082992_31158513777_974487</td>\n",
       "      <td>0</td>\n",
       "      <td>1</td>\n",
       "      <td>1</td>\n",
       "      <td>0</td>\n",
       "      <td>0</td>\n",
       "      <td>0.0</td>\n",
       "      <td>1</td>\n",
       "      <td>0.0</td>\n",
       "      <td>1.0</td>\n",
       "      <td>0.0</td>\n",
       "      <td>0.0</td>\n",
       "      <td>1.0</td>\n",
       "    </tr>\n",
       "    <tr>\n",
       "      <th>4752</th>\n",
       "      <td>8881896</td>\n",
       "      <td>Control</td>\n",
       "      <td>740631430_6221639850_832960</td>\n",
       "      <td>1</td>\n",
       "      <td>1</td>\n",
       "      <td>1</td>\n",
       "      <td>2</td>\n",
       "      <td>1</td>\n",
       "      <td>1.0</td>\n",
       "      <td>1</td>\n",
       "      <td>0.0</td>\n",
       "      <td>1.0</td>\n",
       "      <td>1.0</td>\n",
       "      <td>0.0</td>\n",
       "      <td>2.0</td>\n",
       "    </tr>\n",
       "    <tr>\n",
       "      <th>4753</th>\n",
       "      <td>8023625</td>\n",
       "      <td>Control</td>\n",
       "      <td>710520941_37998535484_436282</td>\n",
       "      <td>0</td>\n",
       "      <td>1</td>\n",
       "      <td>0</td>\n",
       "      <td>0</td>\n",
       "      <td>0</td>\n",
       "      <td>0.0</td>\n",
       "      <td>1</td>\n",
       "      <td>1.0</td>\n",
       "      <td>0.0</td>\n",
       "      <td>0.0</td>\n",
       "      <td>0.0</td>\n",
       "      <td>1.0</td>\n",
       "    </tr>\n",
       "    <tr>\n",
       "      <th>4754</th>\n",
       "      <td>8023625</td>\n",
       "      <td>Control</td>\n",
       "      <td>791367980_81040225281_352511</td>\n",
       "      <td>0</td>\n",
       "      <td>1</td>\n",
       "      <td>0</td>\n",
       "      <td>0</td>\n",
       "      <td>0</td>\n",
       "      <td>0.0</td>\n",
       "      <td>1</td>\n",
       "      <td>1.0</td>\n",
       "      <td>0.0</td>\n",
       "      <td>0.0</td>\n",
       "      <td>0.0</td>\n",
       "      <td>1.0</td>\n",
       "    </tr>\n",
       "  </tbody>\n",
       "</table>\n",
       "<p>4755 rows × 15 columns</p>\n",
       "</div>"
      ],
      "text/plain": [
       "      client_id Variation                      visit_id  confirm  start  \\\n",
       "0       7946939   Control  819610789_74349965849_582778        1      1   \n",
       "1       7179800   Control  834345684_20753053466_629354        3      2   \n",
       "2       7679428   Control  377121016_67032089535_295299        0      2   \n",
       "3       7679428   Control  702065802_57911235390_499219        1      1   \n",
       "4       3654308   Control  726496682_33297666610_800081        0      1   \n",
       "...         ...       ...                           ...      ...    ...   \n",
       "4750    1550660   Control   143274221_81838514499_21074        0      1   \n",
       "4751    2833480   Control  715082992_31158513777_974487        0      1   \n",
       "4752    8881896   Control   740631430_6221639850_832960        1      1   \n",
       "4753    8023625   Control  710520941_37998535484_436282        0      1   \n",
       "4754    8023625   Control  791367980_81040225281_352511        0      1   \n",
       "\n",
       "      step_1  step_2  step_3  complete  Error  N_er_st_s1  N_er_s1_s2  \\\n",
       "0          1       1       1       1.0      0         0.0         0.0   \n",
       "1          1       1       1       NaN      1         1.0         0.0   \n",
       "2          0       0       0       0.0      1         2.0         0.0   \n",
       "3          1       1       1       1.0      0         0.0         0.0   \n",
       "4          0       0       0       0.0      1         1.0         0.0   \n",
       "...      ...     ...     ...       ...    ...         ...         ...   \n",
       "4750       1       0       0       0.0      1         0.0         1.0   \n",
       "4751       1       0       0       0.0      1         0.0         1.0   \n",
       "4752       1       2       1       1.0      1         0.0         1.0   \n",
       "4753       0       0       0       0.0      1         1.0         0.0   \n",
       "4754       0       0       0       0.0      1         1.0         0.0   \n",
       "\n",
       "      N_er_s2_s3  N_er_s3_con  Total errors  \n",
       "0            0.0          0.0           0.0  \n",
       "1            0.0          2.0           3.0  \n",
       "2            0.0          0.0           2.0  \n",
       "3            0.0          0.0           0.0  \n",
       "4            0.0          0.0           1.0  \n",
       "...          ...          ...           ...  \n",
       "4750         0.0          0.0           1.0  \n",
       "4751         0.0          0.0           1.0  \n",
       "4752         1.0          0.0           2.0  \n",
       "4753         0.0          0.0           1.0  \n",
       "4754         0.0          0.0           1.0  \n",
       "\n",
       "[4755 rows x 15 columns]"
      ]
     },
     "execution_count": 37,
     "metadata": {},
     "output_type": "execute_result"
    }
   ],
   "source": [
    "df_gold_control_e"
   ]
  },
  {
   "cell_type": "code",
   "execution_count": 38,
   "metadata": {},
   "outputs": [
    {
     "data": {
      "text/plain": [
       "6985.0"
      ]
     },
     "execution_count": 38,
     "metadata": {},
     "output_type": "execute_result"
    }
   ],
   "source": [
    "df_gold_control_e['Total errors'].sum()"
   ]
  },
  {
   "cell_type": "code",
   "execution_count": 39,
   "metadata": {},
   "outputs": [
    {
     "data": {
      "text/plain": [
       "8225.0"
      ]
     },
     "execution_count": 39,
     "metadata": {},
     "output_type": "execute_result"
    }
   ],
   "source": [
    "df_gold_test_e['Total errors'].sum()"
   ]
  },
  {
   "cell_type": "code",
   "execution_count": 40,
   "metadata": {},
   "outputs": [
    {
     "data": {
      "text/plain": [
       "3560.0"
      ]
     },
     "execution_count": 40,
     "metadata": {},
     "output_type": "execute_result"
    }
   ],
   "source": [
    "# Number errors beteen start and step 1\n",
    "df_gold_control_e['N_er_st_s1'].sum()"
   ]
  },
  {
   "cell_type": "code",
   "execution_count": 41,
   "metadata": {},
   "outputs": [
    {
     "data": {
      "text/plain": [
       "1582.0"
      ]
     },
     "execution_count": 41,
     "metadata": {},
     "output_type": "execute_result"
    }
   ],
   "source": [
    "# Number errors beteen step 1 and step 2 \n",
    "df_gold_control_e['N_er_s1_s2'].sum()"
   ]
  },
  {
   "cell_type": "code",
   "execution_count": 42,
   "metadata": {},
   "outputs": [
    {
     "data": {
      "text/plain": [
       "767.0"
      ]
     },
     "execution_count": 42,
     "metadata": {},
     "output_type": "execute_result"
    }
   ],
   "source": [
    "# Number errors beteen step 2 and step 3 \n",
    "df_gold_control_e['N_er_s2_s3'].sum()"
   ]
  },
  {
   "cell_type": "code",
   "execution_count": 43,
   "metadata": {},
   "outputs": [
    {
     "data": {
      "text/plain": [
       "1491.0"
      ]
     },
     "execution_count": 43,
     "metadata": {},
     "output_type": "execute_result"
    }
   ],
   "source": [
    "# Number errors beteen step 3 and confirm\n",
    "df_gold_control_e['N_er_s3_con'].sum()"
   ]
  },
  {
   "cell_type": "code",
   "execution_count": 53,
   "metadata": {},
   "outputs": [
    {
     "data": {
      "image/png": "[encoded data removed]",
      "text/plain": [
       "<Figure size 640x480 with 1 Axes>"
      ]
     },
     "metadata": {},
     "output_type": "display_data"
    }
   ],
   "source": [
    "import matplotlib.pyplot as plt\n",
    "\n",
    "# Calculate the sums\n",
    "sum_values = [df_gold_control_e['N_er_st_s1'].sum(),\n",
    "              df_gold_control_e['N_er_s1_s2'].sum(),\n",
    "              df_gold_control_e['N_er_s2_s3'].sum(),\n",
    "              df_gold_control_e['N_er_s3_con'].sum()]\n",
    "\n",
    "# Column names\n",
    "columns = ['Num.error st-s1', 'Num.error s1-s2', 'Num.error s2-s3', 'Num.error s3-con']\n",
    "\n",
    "# Create the bar plot\n",
    "plt.bar(columns, sum_values)\n",
    "plt.xlabel('Columns')\n",
    "plt.ylabel('Sum')\n",
    "plt.xticks(rotation=45)\n",
    "plt.title(\"Sum Erorr's for Gold Control\")\n",
    "plt.show()"
   ]
  },
  {
   "cell_type": "code",
   "execution_count": 52,
   "metadata": {},
   "outputs": [
    {
     "data": {
      "image/png": "[encoded data removed]",
      "text/plain": [
       "<Figure size 640x480 with 1 Axes>"
      ]
     },
     "metadata": {},
     "output_type": "display_data"
    }
   ],
   "source": [
    "import matplotlib.pyplot as plt\n",
    "\n",
    "# Totais de erros das duas tabelas\n",
    "total_errors = [df_gold_control_e['Total errors'].sum(), df_gold_test_e['Total errors'].sum()]\n",
    "\n",
    "# Nomes das tabelas\n",
    "labels = ['Gold Control', 'Gold Test']\n",
    "\n",
    "# Criar o gráfico de barras\n",
    "plt.bar(labels, total_errors)\n",
    "plt.xlabel('Control / Test')\n",
    "plt.ylabel('Total de Erros')\n",
    "plt.title('Errors / Group')\n",
    "\n",
    "plt.show()"
   ]
  },
  {
   "cell_type": "code",
   "execution_count": 46,
   "metadata": {},
   "outputs": [
    {
     "name": "stdout",
     "output_type": "stream",
     "text": [
      "Control Group Completion Rate: Total errors\n",
      "1.0     0.368304\n",
      "0.0     0.262277\n",
      "2.0     0.187723\n",
      "3.0     0.072991\n",
      "4.0     0.052902\n",
      "5.0     0.022545\n",
      "6.0     0.013616\n",
      "7.0     0.007143\n",
      "8.0     0.003795\n",
      "9.0     0.003125\n",
      "10.0    0.002232\n",
      "11.0    0.000893\n",
      "13.0    0.000446\n",
      "12.0    0.000446\n",
      "23.0    0.000223\n",
      "15.0    0.000223\n",
      "16.0    0.000223\n",
      "14.0    0.000223\n",
      "17.0    0.000223\n",
      "32.0    0.000223\n",
      "56.0    0.000223\n",
      "Name: proportion, dtype: float64\n",
      "__________________________________\n",
      "\n",
      "Test Group Completion Rate: Total errors\n",
      "0.0     0.286486\n",
      "1.0     0.276324\n",
      "2.0     0.184000\n",
      "3.0     0.110054\n",
      "4.0     0.065730\n",
      "5.0     0.028973\n",
      "6.0     0.019243\n",
      "7.0     0.009514\n",
      "8.0     0.006270\n",
      "9.0     0.005622\n",
      "10.0    0.001946\n",
      "11.0    0.001514\n",
      "12.0    0.001081\n",
      "15.0    0.000865\n",
      "16.0    0.000649\n",
      "14.0    0.000432\n",
      "17.0    0.000432\n",
      "25.0    0.000216\n",
      "21.0    0.000216\n",
      "42.0    0.000216\n",
      "39.0    0.000216\n",
      "Name: proportion, dtype: float64\n"
     ]
    }
   ],
   "source": [
    "# Define metrics\n",
    "test_completion_rate = df_gold_test_e['Total errors'].value_counts(normalize=True)\n",
    "control_completion_rate = df_gold_control_e['Total errors'].value_counts(normalize=True)\n",
    "\n",
    "# Calculate completion rates\n",
    "print(\"Control Group Completion Rate:\", control_completion_rate)\n",
    "\n",
    "print(\"__________________________________\")\n",
    "print(\"\")\n",
    "print(\"Test Group Completion Rate:\", test_completion_rate)"
   ]
  },
  {
   "cell_type": "code",
   "execution_count": null,
   "metadata": {},
   "outputs": [],
   "source": []
  },
  {
   "cell_type": "code",
   "execution_count": 47,
   "metadata": {},
   "outputs": [
    {
     "name": "stdout",
     "output_type": "stream",
     "text": [
      "p value:0.0000\n",
      "Reject null hypothesis >> The data is not normally distributed\n"
     ]
    }
   ],
   "source": [
    "import numpy as np\n",
    "from scipy import stats\n",
    "\n",
    "\n",
    "def check_normality(data):\n",
    "    test_stat_normality, p_value_normality=stats.shapiro(data)\n",
    "    print(\"p value:%.4f\" % p_value_normality)\n",
    "    if p_value_normality <0.05:\n",
    "        print(\"Reject null hypothesis >> The data is not normally distributed\")\n",
    "    else:\n",
    "        print(\"Fail to reject null hypothesis >> The data is normally distributed\")\n",
    "\n",
    "\n",
    "control_completion_rate1 = df_gold_control_e['Total errors'].value_counts()\n",
    "test_completion_rate1 = df_gold_test_e['Total errors'].value_counts()\n",
    "check_normality(control_completion_rate1)"
   ]
  },
  {
   "cell_type": "markdown",
   "metadata": {},
   "source": [
    "**- Visualize outcomes**"
   ]
  },
  {
   "cell_type": "code",
   "execution_count": 48,
   "metadata": {},
   "outputs": [
    {
     "data": {
      "image/png": "[encoded data removed]",
      "text/plain": [
       "<Figure size 640x480 with 1 Axes>"
      ]
     },
     "metadata": {},
     "output_type": "display_data"
    },
    {
     "data": {
      "image/png": "[encoded data removed]",
      "text/plain": [
       "<Figure size 640x480 with 1 Axes>"
      ]
     },
     "metadata": {},
     "output_type": "display_data"
    }
   ],
   "source": [
    "import matplotlib.pyplot as plt\n",
    "\n",
    "# Visualize outcomes for Control Group\n",
    "ax1 = control_completion_rate.plot(kind='bar', title='Control Group Completion Rate', cmap='brg')\n",
    "for i, v in enumerate(control_completion_rate):\n",
    "    ax1.text(i, v + 0.01, str(round(v, 2)), ha='center', va='bottom')\n",
    "\n",
    "plt.show()\n",
    "\n",
    "# Visualize outcomes for Test Group\n",
    "ax2 = test_completion_rate.plot(kind='bar', title='Test Group Completion Rate')\n",
    "for i, v in enumerate(test_completion_rate):\n",
    "    ax2.text(i, v + 0.01, str(round(v, 2)), ha='center', va='bottom')\n",
    "\n",
    "plt.show()"
   ]
  },
  {
   "cell_type": "code",
   "execution_count": null,
   "metadata": {},
   "outputs": [],
   "source": []
  },
  {
   "cell_type": "code",
   "execution_count": 49,
   "metadata": {},
   "outputs": [
    {
     "name": "stdout",
     "output_type": "stream",
     "text": [
      "T-statistic: 2.3650519580907456\n",
      "P-value: 0.018045949297036814\n"
     ]
    }
   ],
   "source": [
    "from scipy.stats import ttest_ind\n",
    "\n",
    "# Convertendo as colunas para o tipo string\n",
    "control_process_steps = df_gold_control_e['Total errors'].astype(str).str.extract('(\\\\d+)', expand=False).fillna(-1).astype(float)\n",
    "\n",
    "test_process_steps = df_gold_test_e['Total errors'].astype(str).str.extract('(\\\\d+)', expand=False).fillna(-1).astype(float)\n",
    "\n",
    "# Perform hypothesis test\n",
    "t_stat, p_value = ttest_ind(control_process_steps, test_process_steps)\n",
    "print(\"T-statistic:\", t_stat)\n",
    "print(\"P-value:\", p_value)"
   ]
  },
  {
   "cell_type": "markdown",
   "metadata": {},
   "source": [
    "\n",
    "The T-statistic measures the size of the difference relative to the variation in your sample data. A T-statistic greater than 2 (in absolute value) is generally considered statistically significant.\n",
    "\n",
    "The P-value is the probability of observing a T-statistic as extreme as, or more extreme than, the one calculated from the sample data, assuming that the null hypothesis is true. A small P-value (typically less than 0.05) indicates strong evidence against the null hypothesis, so you would reject the null hypothesis."
   ]
  }
 ],
 "metadata": {
  "kernelspec": {
   "display_name": "Python 3",
   "language": "python",
   "name": "python3"
  },
  "language_info": {
   "codemirror_mode": {
    "name": "ipython",
    "version": 3
   },
   "file_extension": ".py",
   "mimetype": "text/x-python",
   "name": "python",
   "nbconvert_exporter": "python",
   "pygments_lexer": "ipython3",
   "version": "3.12.2"
  }
 },
 "nbformat": 4,
 "nbformat_minor": 2
}
