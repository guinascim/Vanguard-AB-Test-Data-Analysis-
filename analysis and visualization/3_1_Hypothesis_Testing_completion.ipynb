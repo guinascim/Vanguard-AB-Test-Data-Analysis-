{
 "cells": [
  {
   "cell_type": "markdown",
   "metadata": {},
   "source": [
    "<span style=\"font-size: 30px;\">\n",
    "\n",
    "**Hypothesis Testing - Completion**\n",
    "\n",
    "</span>\n",
    "\n",
    "As part of your analysis, you’ll conduct hypothesis testing to make data-driven conclusions about the effectiveness of the redesign. See the full details below:\n",
    "\n",
    "Completion Rate\n",
    "Given the data and KPIs you have explored discussed, one interesting hypothesis to test is related to the completion rate between the Test and Control groups. Since the new design (Test group) had a higher completion rate compared to the old design (Control group), you are required to confirm if this difference is statistically significant.\n",
    "\n",
    "Make sure to define the proper null and an alternative hypothesis to test it. Use the provided data to test these hypotheses, and determine if you can reject the null hypothesis in favor of the alternative. Make sure to consider the significance level, p-value, the statistical test prerequisites, and other relevant statistical measures in your analysis.\n",
    "\n",
    "Completion Rate with a Cost-Effectiveness Threshold\n",
    "The introduction of a new UI design comes with its associated costs: design, development, testing, potential training for staff, and possible short-term disruptions or adjustments for users. To justify these costs, Vanguard has determined that any new design should lead to a minimum increase in the completion rate to be deemed cost-effective.\n",
    "\n",
    "Threshold: Vanguard has set this minimum increase in completion rate at 5%. This is the rate at which the projected benefits, in terms of increased user engagement and potential revenue, are estimated to outweigh the costs of the new design.\n",
    "\n",
    "You are required to carry out another analysis, ensuring that the observed increase in completion rate from the A/B test meets or exceeds this 5% threshold. If the new design doesn’t lead to at least this level of improvement, it may not be justifiable from a cost perspective, regardless of its statistical significance.\n",
    "\n",
    "Other Hypothesis Examples\n",
    "You have been given the freedom to choose another hypothesis to test. Here are some examples:\n",
    "\n",
    "You might want to test whether the average age of clients engaging with the new process is the same as those engaging with the old process\n",
    "You might want to test if the average client tenure (how long they’ve been with Vanguard) of those engaging with the new process is the same as those engaging with the old process\n",
    "You might want to test if there are gender differences that affect engaging with the new or old process\n",
    "Make sure to define the proper null and alternative hypothesis to test it. You are required to choose one or come up with another of your own to test.\n",
    "\n",
    "\n",
    "\n",
    "\n",
    "\n",
    "    **Experiment Evaluation**\n",
    "\n",
    "You are also required to carry out an evaluation of the experiment by answering questions about the design effectiveness, duration and any additional data needs. See the full details below:\n",
    "\n",
    "Design Effectiveness\n",
    "Was the experiment well-structured?\n",
    "Were clients randomly and equally divided between the old and new designs?\n",
    "Were there any biases?\n",
    "Duration Assessment\n",
    "Was the timeframe of the experiment (from 3/15/2017 to 6/20/2017) adequate to gather meaningful data and insights?\n",
    "\n",
    "Additional Data Needs\n",
    "What other data, if available, could enhance the analysis?"
   ]
  },
  {
   "cell_type": "code",
   "execution_count": 1,
   "metadata": {},
   "outputs": [],
   "source": [
    "import pandas as pd\n",
    "\n",
    "\n",
    "df_gold_test = pd.read_excel(\"Data_gold_test_steps.xlsx\")\n",
    "df_gold_control = pd.read_excel(\"Data_gold_control_steps.xlsx\")"
   ]
  },
  {
   "cell_type": "code",
   "execution_count": 2,
   "metadata": {},
   "outputs": [
    {
     "data": {
      "text/html": [
       "<div>\n",
       "<style scoped>\n",
       "    .dataframe tbody tr th:only-of-type {\n",
       "        vertical-align: middle;\n",
       "    }\n",
       "\n",
       "    .dataframe tbody tr th {\n",
       "        vertical-align: top;\n",
       "    }\n",
       "\n",
       "    .dataframe thead th {\n",
       "        text-align: right;\n",
       "    }\n",
       "</style>\n",
       "<table border=\"1\" class=\"dataframe\">\n",
       "  <thead>\n",
       "    <tr style=\"text-align: right;\">\n",
       "      <th></th>\n",
       "      <th>client_id</th>\n",
       "      <th>Variation</th>\n",
       "      <th>visit_id</th>\n",
       "      <th>confirm</th>\n",
       "      <th>start</th>\n",
       "      <th>step_1</th>\n",
       "      <th>step_2</th>\n",
       "      <th>step_3</th>\n",
       "      <th>complete</th>\n",
       "      <th>Error</th>\n",
       "      <th>perfect_cicle</th>\n",
       "    </tr>\n",
       "  </thead>\n",
       "  <tbody>\n",
       "    <tr>\n",
       "      <th>0</th>\n",
       "      <td>346781</td>\n",
       "      <td>Test</td>\n",
       "      <td>138480024_16310699196_180947</td>\n",
       "      <td>1</td>\n",
       "      <td>1</td>\n",
       "      <td>1</td>\n",
       "      <td>1</td>\n",
       "      <td>1</td>\n",
       "      <td>1.0</td>\n",
       "      <td>0</td>\n",
       "      <td>1.0</td>\n",
       "    </tr>\n",
       "    <tr>\n",
       "      <th>1</th>\n",
       "      <td>6038525</td>\n",
       "      <td>Test</td>\n",
       "      <td>160662411_47414103546_387098</td>\n",
       "      <td>1</td>\n",
       "      <td>1</td>\n",
       "      <td>1</td>\n",
       "      <td>1</td>\n",
       "      <td>1</td>\n",
       "      <td>1.0</td>\n",
       "      <td>0</td>\n",
       "      <td>1.0</td>\n",
       "    </tr>\n",
       "    <tr>\n",
       "      <th>2</th>\n",
       "      <td>6219677</td>\n",
       "      <td>Test</td>\n",
       "      <td>402500490_59473331055_178140</td>\n",
       "      <td>1</td>\n",
       "      <td>3</td>\n",
       "      <td>3</td>\n",
       "      <td>4</td>\n",
       "      <td>2</td>\n",
       "      <td>1.0</td>\n",
       "      <td>1</td>\n",
       "      <td>NaN</td>\n",
       "    </tr>\n",
       "    <tr>\n",
       "      <th>3</th>\n",
       "      <td>6219677</td>\n",
       "      <td>Test</td>\n",
       "      <td>733647053_97830081870_147132</td>\n",
       "      <td>0</td>\n",
       "      <td>4</td>\n",
       "      <td>4</td>\n",
       "      <td>4</td>\n",
       "      <td>2</td>\n",
       "      <td>0.0</td>\n",
       "      <td>1</td>\n",
       "      <td>NaN</td>\n",
       "    </tr>\n",
       "    <tr>\n",
       "      <th>4</th>\n",
       "      <td>6219677</td>\n",
       "      <td>Test</td>\n",
       "      <td>237397313_76996853966_974538</td>\n",
       "      <td>0</td>\n",
       "      <td>3</td>\n",
       "      <td>2</td>\n",
       "      <td>2</td>\n",
       "      <td>2</td>\n",
       "      <td>0.0</td>\n",
       "      <td>1</td>\n",
       "      <td>NaN</td>\n",
       "    </tr>\n",
       "    <tr>\n",
       "      <th>...</th>\n",
       "      <td>...</td>\n",
       "      <td>...</td>\n",
       "      <td>...</td>\n",
       "      <td>...</td>\n",
       "      <td>...</td>\n",
       "      <td>...</td>\n",
       "      <td>...</td>\n",
       "      <td>...</td>\n",
       "      <td>...</td>\n",
       "      <td>...</td>\n",
       "      <td>...</td>\n",
       "    </tr>\n",
       "    <tr>\n",
       "      <th>5553</th>\n",
       "      <td>5492897</td>\n",
       "      <td>Test</td>\n",
       "      <td>772609923_69272363513_45475</td>\n",
       "      <td>1</td>\n",
       "      <td>1</td>\n",
       "      <td>1</td>\n",
       "      <td>1</td>\n",
       "      <td>1</td>\n",
       "      <td>1.0</td>\n",
       "      <td>0</td>\n",
       "      <td>1.0</td>\n",
       "    </tr>\n",
       "    <tr>\n",
       "      <th>5554</th>\n",
       "      <td>5492897</td>\n",
       "      <td>Test</td>\n",
       "      <td>476101525_35474335958_420184</td>\n",
       "      <td>1</td>\n",
       "      <td>0</td>\n",
       "      <td>0</td>\n",
       "      <td>0</td>\n",
       "      <td>0</td>\n",
       "      <td>NaN</td>\n",
       "      <td>1</td>\n",
       "      <td>NaN</td>\n",
       "    </tr>\n",
       "    <tr>\n",
       "      <th>5555</th>\n",
       "      <td>9684806</td>\n",
       "      <td>Test</td>\n",
       "      <td>304868249_69734281141_323816</td>\n",
       "      <td>0</td>\n",
       "      <td>3</td>\n",
       "      <td>2</td>\n",
       "      <td>1</td>\n",
       "      <td>1</td>\n",
       "      <td>0.0</td>\n",
       "      <td>1</td>\n",
       "      <td>NaN</td>\n",
       "    </tr>\n",
       "    <tr>\n",
       "      <th>5556</th>\n",
       "      <td>4084839</td>\n",
       "      <td>Test</td>\n",
       "      <td>800911487_42591652049_196692</td>\n",
       "      <td>1</td>\n",
       "      <td>1</td>\n",
       "      <td>1</td>\n",
       "      <td>1</td>\n",
       "      <td>1</td>\n",
       "      <td>1.0</td>\n",
       "      <td>0</td>\n",
       "      <td>1.0</td>\n",
       "    </tr>\n",
       "    <tr>\n",
       "      <th>5557</th>\n",
       "      <td>9646248</td>\n",
       "      <td>Test</td>\n",
       "      <td>161730376_52165437931_639965</td>\n",
       "      <td>0</td>\n",
       "      <td>2</td>\n",
       "      <td>3</td>\n",
       "      <td>4</td>\n",
       "      <td>1</td>\n",
       "      <td>1.0</td>\n",
       "      <td>1</td>\n",
       "      <td>NaN</td>\n",
       "    </tr>\n",
       "  </tbody>\n",
       "</table>\n",
       "<p>5558 rows × 11 columns</p>\n",
       "</div>"
      ],
      "text/plain": [
       "      client_id Variation                      visit_id  confirm  start  \\\n",
       "0        346781      Test  138480024_16310699196_180947        1      1   \n",
       "1       6038525      Test  160662411_47414103546_387098        1      1   \n",
       "2       6219677      Test  402500490_59473331055_178140        1      3   \n",
       "3       6219677      Test  733647053_97830081870_147132        0      4   \n",
       "4       6219677      Test  237397313_76996853966_974538        0      3   \n",
       "...         ...       ...                           ...      ...    ...   \n",
       "5553    5492897      Test   772609923_69272363513_45475        1      1   \n",
       "5554    5492897      Test  476101525_35474335958_420184        1      0   \n",
       "5555    9684806      Test  304868249_69734281141_323816        0      3   \n",
       "5556    4084839      Test  800911487_42591652049_196692        1      1   \n",
       "5557    9646248      Test  161730376_52165437931_639965        0      2   \n",
       "\n",
       "      step_1  step_2  step_3  complete  Error  perfect_cicle  \n",
       "0          1       1       1       1.0      0            1.0  \n",
       "1          1       1       1       1.0      0            1.0  \n",
       "2          3       4       2       1.0      1            NaN  \n",
       "3          4       4       2       0.0      1            NaN  \n",
       "4          2       2       2       0.0      1            NaN  \n",
       "...      ...     ...     ...       ...    ...            ...  \n",
       "5553       1       1       1       1.0      0            1.0  \n",
       "5554       0       0       0       NaN      1            NaN  \n",
       "5555       2       1       1       0.0      1            NaN  \n",
       "5556       1       1       1       1.0      0            1.0  \n",
       "5557       3       4       1       1.0      1            NaN  \n",
       "\n",
       "[5558 rows x 11 columns]"
      ]
     },
     "execution_count": 2,
     "metadata": {},
     "output_type": "execute_result"
    }
   ],
   "source": [
    "df_gold_test"
   ]
  },
  {
   "cell_type": "code",
   "execution_count": null,
   "metadata": {},
   "outputs": [],
   "source": []
  },
  {
   "cell_type": "code",
   "execution_count": 3,
   "metadata": {},
   "outputs": [
    {
     "data": {
      "text/html": [
       "<div>\n",
       "<style scoped>\n",
       "    .dataframe tbody tr th:only-of-type {\n",
       "        vertical-align: middle;\n",
       "    }\n",
       "\n",
       "    .dataframe tbody tr th {\n",
       "        vertical-align: top;\n",
       "    }\n",
       "\n",
       "    .dataframe thead th {\n",
       "        text-align: right;\n",
       "    }\n",
       "</style>\n",
       "<table border=\"1\" class=\"dataframe\">\n",
       "  <thead>\n",
       "    <tr style=\"text-align: right;\">\n",
       "      <th></th>\n",
       "      <th>client_id</th>\n",
       "      <th>Variation</th>\n",
       "      <th>visit_id</th>\n",
       "      <th>confirm</th>\n",
       "      <th>start</th>\n",
       "      <th>step_1</th>\n",
       "      <th>step_2</th>\n",
       "      <th>step_3</th>\n",
       "      <th>complete</th>\n",
       "      <th>Error</th>\n",
       "      <th>perfect_cicle</th>\n",
       "    </tr>\n",
       "  </thead>\n",
       "  <tbody>\n",
       "    <tr>\n",
       "      <th>0</th>\n",
       "      <td>7946939</td>\n",
       "      <td>Control</td>\n",
       "      <td>819610789_74349965849_582778</td>\n",
       "      <td>1</td>\n",
       "      <td>1</td>\n",
       "      <td>1</td>\n",
       "      <td>1</td>\n",
       "      <td>1</td>\n",
       "      <td>1.0</td>\n",
       "      <td>0</td>\n",
       "      <td>1.0</td>\n",
       "    </tr>\n",
       "    <tr>\n",
       "      <th>1</th>\n",
       "      <td>7179800</td>\n",
       "      <td>Control</td>\n",
       "      <td>834345684_20753053466_629354</td>\n",
       "      <td>3</td>\n",
       "      <td>2</td>\n",
       "      <td>1</td>\n",
       "      <td>1</td>\n",
       "      <td>1</td>\n",
       "      <td>NaN</td>\n",
       "      <td>1</td>\n",
       "      <td>NaN</td>\n",
       "    </tr>\n",
       "    <tr>\n",
       "      <th>2</th>\n",
       "      <td>7679428</td>\n",
       "      <td>Control</td>\n",
       "      <td>377121016_67032089535_295299</td>\n",
       "      <td>0</td>\n",
       "      <td>2</td>\n",
       "      <td>0</td>\n",
       "      <td>0</td>\n",
       "      <td>0</td>\n",
       "      <td>0.0</td>\n",
       "      <td>1</td>\n",
       "      <td>NaN</td>\n",
       "    </tr>\n",
       "    <tr>\n",
       "      <th>3</th>\n",
       "      <td>7679428</td>\n",
       "      <td>Control</td>\n",
       "      <td>702065802_57911235390_499219</td>\n",
       "      <td>1</td>\n",
       "      <td>1</td>\n",
       "      <td>1</td>\n",
       "      <td>1</td>\n",
       "      <td>1</td>\n",
       "      <td>1.0</td>\n",
       "      <td>0</td>\n",
       "      <td>1.0</td>\n",
       "    </tr>\n",
       "    <tr>\n",
       "      <th>4</th>\n",
       "      <td>3654308</td>\n",
       "      <td>Control</td>\n",
       "      <td>726496682_33297666610_800081</td>\n",
       "      <td>0</td>\n",
       "      <td>1</td>\n",
       "      <td>0</td>\n",
       "      <td>0</td>\n",
       "      <td>0</td>\n",
       "      <td>0.0</td>\n",
       "      <td>1</td>\n",
       "      <td>NaN</td>\n",
       "    </tr>\n",
       "    <tr>\n",
       "      <th>...</th>\n",
       "      <td>...</td>\n",
       "      <td>...</td>\n",
       "      <td>...</td>\n",
       "      <td>...</td>\n",
       "      <td>...</td>\n",
       "      <td>...</td>\n",
       "      <td>...</td>\n",
       "      <td>...</td>\n",
       "      <td>...</td>\n",
       "      <td>...</td>\n",
       "      <td>...</td>\n",
       "    </tr>\n",
       "    <tr>\n",
       "      <th>4750</th>\n",
       "      <td>1550660</td>\n",
       "      <td>Control</td>\n",
       "      <td>143274221_81838514499_21074</td>\n",
       "      <td>0</td>\n",
       "      <td>1</td>\n",
       "      <td>1</td>\n",
       "      <td>0</td>\n",
       "      <td>0</td>\n",
       "      <td>0.0</td>\n",
       "      <td>1</td>\n",
       "      <td>NaN</td>\n",
       "    </tr>\n",
       "    <tr>\n",
       "      <th>4751</th>\n",
       "      <td>2833480</td>\n",
       "      <td>Control</td>\n",
       "      <td>715082992_31158513777_974487</td>\n",
       "      <td>0</td>\n",
       "      <td>1</td>\n",
       "      <td>1</td>\n",
       "      <td>0</td>\n",
       "      <td>0</td>\n",
       "      <td>0.0</td>\n",
       "      <td>1</td>\n",
       "      <td>NaN</td>\n",
       "    </tr>\n",
       "    <tr>\n",
       "      <th>4752</th>\n",
       "      <td>8881896</td>\n",
       "      <td>Control</td>\n",
       "      <td>740631430_6221639850_832960</td>\n",
       "      <td>1</td>\n",
       "      <td>1</td>\n",
       "      <td>1</td>\n",
       "      <td>2</td>\n",
       "      <td>1</td>\n",
       "      <td>1.0</td>\n",
       "      <td>1</td>\n",
       "      <td>NaN</td>\n",
       "    </tr>\n",
       "    <tr>\n",
       "      <th>4753</th>\n",
       "      <td>8023625</td>\n",
       "      <td>Control</td>\n",
       "      <td>710520941_37998535484_436282</td>\n",
       "      <td>0</td>\n",
       "      <td>1</td>\n",
       "      <td>0</td>\n",
       "      <td>0</td>\n",
       "      <td>0</td>\n",
       "      <td>0.0</td>\n",
       "      <td>1</td>\n",
       "      <td>NaN</td>\n",
       "    </tr>\n",
       "    <tr>\n",
       "      <th>4754</th>\n",
       "      <td>8023625</td>\n",
       "      <td>Control</td>\n",
       "      <td>791367980_81040225281_352511</td>\n",
       "      <td>0</td>\n",
       "      <td>1</td>\n",
       "      <td>0</td>\n",
       "      <td>0</td>\n",
       "      <td>0</td>\n",
       "      <td>0.0</td>\n",
       "      <td>1</td>\n",
       "      <td>NaN</td>\n",
       "    </tr>\n",
       "  </tbody>\n",
       "</table>\n",
       "<p>4755 rows × 11 columns</p>\n",
       "</div>"
      ],
      "text/plain": [
       "      client_id Variation                      visit_id  confirm  start  \\\n",
       "0       7946939   Control  819610789_74349965849_582778        1      1   \n",
       "1       7179800   Control  834345684_20753053466_629354        3      2   \n",
       "2       7679428   Control  377121016_67032089535_295299        0      2   \n",
       "3       7679428   Control  702065802_57911235390_499219        1      1   \n",
       "4       3654308   Control  726496682_33297666610_800081        0      1   \n",
       "...         ...       ...                           ...      ...    ...   \n",
       "4750    1550660   Control   143274221_81838514499_21074        0      1   \n",
       "4751    2833480   Control  715082992_31158513777_974487        0      1   \n",
       "4752    8881896   Control   740631430_6221639850_832960        1      1   \n",
       "4753    8023625   Control  710520941_37998535484_436282        0      1   \n",
       "4754    8023625   Control  791367980_81040225281_352511        0      1   \n",
       "\n",
       "      step_1  step_2  step_3  complete  Error  perfect_cicle  \n",
       "0          1       1       1       1.0      0            1.0  \n",
       "1          1       1       1       NaN      1            NaN  \n",
       "2          0       0       0       0.0      1            NaN  \n",
       "3          1       1       1       1.0      0            1.0  \n",
       "4          0       0       0       0.0      1            NaN  \n",
       "...      ...     ...     ...       ...    ...            ...  \n",
       "4750       1       0       0       0.0      1            NaN  \n",
       "4751       1       0       0       0.0      1            NaN  \n",
       "4752       1       2       1       1.0      1            NaN  \n",
       "4753       0       0       0       0.0      1            NaN  \n",
       "4754       0       0       0       0.0      1            NaN  \n",
       "\n",
       "[4755 rows x 11 columns]"
      ]
     },
     "execution_count": 3,
     "metadata": {},
     "output_type": "execute_result"
    }
   ],
   "source": [
    "df_gold_control"
   ]
  },
  {
   "cell_type": "code",
   "execution_count": 12,
   "metadata": {},
   "outputs": [
    {
     "data": {
      "text/plain": [
       "1200.0"
      ]
     },
     "execution_count": 12,
     "metadata": {},
     "output_type": "execute_result"
    }
   ],
   "source": [
    "df_gold_control['perfect_cicle'].sum() "
   ]
  },
  {
   "cell_type": "code",
   "execution_count": 11,
   "metadata": {},
   "outputs": [
    {
     "data": {
      "text/plain": [
       "1419.0"
      ]
     },
     "execution_count": 11,
     "metadata": {},
     "output_type": "execute_result"
    }
   ],
   "source": [
    "df_gold_test['perfect_cicle'].sum()  "
   ]
  },
  {
   "cell_type": "code",
   "execution_count": 4,
   "metadata": {},
   "outputs": [
    {
     "data": {
      "text/plain": [
       "2442.0"
      ]
     },
     "execution_count": 4,
     "metadata": {},
     "output_type": "execute_result"
    }
   ],
   "source": [
    "df_gold_test['complete'].sum()    "
   ]
  },
  {
   "cell_type": "code",
   "execution_count": 5,
   "metadata": {},
   "outputs": [
    {
     "data": {
      "text/plain": [
       "2122.0"
      ]
     },
     "execution_count": 5,
     "metadata": {},
     "output_type": "execute_result"
    }
   ],
   "source": [
    "df_gold_control['complete'].sum() "
   ]
  },
  {
   "cell_type": "code",
   "execution_count": 14,
   "metadata": {},
   "outputs": [
    {
     "data": {
      "image/png": "[encoded data removed]",
      "text/plain": [
       "<Figure size 640x480 with 1 Axes>"
      ]
     },
     "metadata": {},
     "output_type": "display_data"
    }
   ],
   "source": [
    "import matplotlib.pyplot as plt\n",
    "\n",
    "# Calculate the total completions\n",
    "total_complet = [df_gold_control['perfect_cicle'].sum(), df_gold_test['perfect_cicle'].sum()]\n",
    "\n",
    "# Create a bar plot\n",
    "plt.bar(['Control', 'Test'], total_complet)\n",
    "plt.xlabel('Group')\n",
    "plt.ylabel('Total Completions')\n",
    "plt.title('Total perfect cicles by Group')\n",
    "plt.show()"
   ]
  },
  {
   "cell_type": "code",
   "execution_count": 6,
   "metadata": {},
   "outputs": [
    {
     "data": {
      "image/png": "[encoded data removed]",
      "text/plain": [
       "<Figure size 640x480 with 1 Axes>"
      ]
     },
     "metadata": {},
     "output_type": "display_data"
    }
   ],
   "source": [
    "import matplotlib.pyplot as plt\n",
    "\n",
    "# Calculate the total completions\n",
    "total_complet = [df_gold_control['complete'].sum(), df_gold_test['complete'].sum()]\n",
    "\n",
    "# Create a bar plot\n",
    "plt.bar(['Control', 'Test'], total_complet)\n",
    "plt.xlabel('Group')\n",
    "plt.ylabel('Total Completions')\n",
    "plt.title('Total Completions by Group')\n",
    "plt.show()"
   ]
  },
  {
   "cell_type": "code",
   "execution_count": 7,
   "metadata": {},
   "outputs": [
    {
     "name": "stdout",
     "output_type": "stream",
     "text": [
      "Control Group Completion Rate: complete\n",
      "0.0    0.520629\n",
      "1.0    0.476408\n",
      "2.0    0.001824\n",
      "3.0    0.000912\n",
      "4.0    0.000228\n",
      "Name: proportion, dtype: float64\n",
      "__________________________________\n",
      "\n",
      "Test Group Completion Rate: complete\n",
      "1.0    0.531151\n",
      "0.0    0.457481\n",
      "2.0    0.010459\n",
      "4.0    0.000455\n",
      "3.0    0.000455\n",
      "Name: proportion, dtype: float64\n"
     ]
    }
   ],
   "source": [
    "# Define metrics\n",
    "test_completion_rate = df_gold_test['complete'].value_counts(normalize=True)\n",
    "control_completion_rate = df_gold_control['complete'].value_counts(normalize=True)\n",
    "\n",
    "# Calculate completion rates\n",
    "print(\"Control Group Completion Rate:\", control_completion_rate)\n",
    "\n",
    "print(\"__________________________________\")\n",
    "print(\"\")\n",
    "print(\"Test Group Completion Rate:\", test_completion_rate)"
   ]
  },
  {
   "cell_type": "code",
   "execution_count": null,
   "metadata": {},
   "outputs": [],
   "source": []
  },
  {
   "cell_type": "code",
   "execution_count": 8,
   "metadata": {},
   "outputs": [
    {
     "name": "stdout",
     "output_type": "stream",
     "text": [
      "p value:0.0127\n",
      "Reject null hypothesis >> The data is not normally distributed\n"
     ]
    }
   ],
   "source": [
    "import numpy as np\n",
    "from scipy import stats\n",
    "\n",
    "\n",
    "def check_normality(data):\n",
    "    test_stat_normality, p_value_normality=stats.shapiro(data)\n",
    "    print(\"p value:%.4f\" % p_value_normality)\n",
    "    if p_value_normality <0.05:\n",
    "        print(\"Reject null hypothesis >> The data is not normally distributed\")\n",
    "    else:\n",
    "        print(\"Fail to reject null hypothesis >> The data is normally distributed\")\n",
    "\n",
    "\n",
    "control_completion_rate1 = df_gold_control['complete'].value_counts()\n",
    "test_completion_rate1 = df_gold_test['complete'].value_counts()\n",
    "check_normality(control_completion_rate1)"
   ]
  },
  {
   "cell_type": "markdown",
   "metadata": {},
   "source": [
    "**- Visualize outcomes**"
   ]
  },
  {
   "cell_type": "code",
   "execution_count": 9,
   "metadata": {},
   "outputs": [
    {
     "data": {
      "image/png": "[encoded data removed]",
      "text/plain": [
       "<Figure size 640x480 with 1 Axes>"
      ]
     },
     "metadata": {},
     "output_type": "display_data"
    },
    {
     "data": {
      "image/png": "[encoded data removed]",
      "text/plain": [
       "<Figure size 640x480 with 1 Axes>"
      ]
     },
     "metadata": {},
     "output_type": "display_data"
    }
   ],
   "source": [
    "import matplotlib.pyplot as plt\n",
    "\n",
    "# Visualize outcomes for Control Group\n",
    "ax1 = control_completion_rate.plot(kind='bar', title='Control Group Completion Rate', cmap='brg')\n",
    "for i, v in enumerate(control_completion_rate):\n",
    "    ax1.text(i, v + 0.01, str(round(v, 2)), ha='center', va='bottom')\n",
    "\n",
    "plt.show()\n",
    "\n",
    "# Visualize outcomes for Test Group\n",
    "ax2 = test_completion_rate.plot(kind='bar', title='Test Group Completion Rate')\n",
    "for i, v in enumerate(test_completion_rate):\n",
    "    ax2.text(i, v + 0.01, str(round(v, 2)), ha='center', va='bottom')\n",
    "\n",
    "plt.show()"
   ]
  },
  {
   "cell_type": "code",
   "execution_count": null,
   "metadata": {},
   "outputs": [],
   "source": []
  },
  {
   "cell_type": "code",
   "execution_count": 10,
   "metadata": {},
   "outputs": [
    {
     "name": "stdout",
     "output_type": "stream",
     "text": [
      "T-statistic: 9.732338718338434\n",
      "P-value: 2.7370390844602403e-22\n"
     ]
    }
   ],
   "source": [
    "from scipy.stats import ttest_ind\n",
    "\n",
    "# Convertendo as colunas para o tipo string\n",
    "control_process_steps = df_gold_control['complete'].astype(str).str.extract('(\\\\d+)', expand=False).fillna(-1).astype(float)\n",
    "\n",
    "test_process_steps = df_gold_test['complete'].astype(str).str.extract('(\\\\d+)', expand=False).fillna(-1).astype(float)\n",
    "\n",
    "# Perform hypothesis test\n",
    "t_stat, p_value = ttest_ind(control_process_steps, test_process_steps)\n",
    "print(\"T-statistic:\", t_stat)\n",
    "print(\"P-value:\", p_value)"
   ]
  },
  {
   "cell_type": "markdown",
   "metadata": {},
   "source": [
    "The T-statistic measures the difference between the means of the two samples relative to the variation in the samples. In this case, a T-statistic of 9.73 indicates a large difference between the means of the two groups.\n",
    "\n",
    "The P-value is a measure of the evidence against a null hypothesis. A P-value of 2.74e-22 (or 0.000000000000000000000274) is extremely small, indicating strong evidence against the null hypothesis. In practical terms, this suggests that there is a very low probability that the observed difference between the two groups is due to random chance. Therefore, it is likely that the difference is statistically significant."
   ]
  }
 ],
 "metadata": {
  "kernelspec": {
   "display_name": "Python 3",
   "language": "python",
   "name": "python3"
  },
  "language_info": {
   "codemirror_mode": {
    "name": "ipython",
    "version": 3
   },
   "file_extension": ".py",
   "mimetype": "text/x-python",
   "name": "python",
   "nbconvert_exporter": "python",
   "pygments_lexer": "ipython3",
   "version": "3.12.2"
  }
 },
 "nbformat": 4,
 "nbformat_minor": 2
}
